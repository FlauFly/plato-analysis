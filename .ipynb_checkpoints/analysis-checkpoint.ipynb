{
 "cells": [
  {
   "cell_type": "code",
   "execution_count": 1,
   "id": "372b2345-9cae-48bd-83b5-8720c813da52",
   "metadata": {},
   "outputs": [],
   "source": [
    "import pandas as pd\n",
    "import numpy as np\n",
    "import networkx as nx\n",
    "import matplotlib.pyplot as plt"
   ]
  },
  {
   "cell_type": "code",
   "execution_count": 2,
   "id": "1f0f3b5c-e98e-4458-a914-38c789c4f5ca",
   "metadata": {},
   "outputs": [],
   "source": [
    "df = pd.read_csv('data.csv')"
   ]
  },
  {
   "cell_type": "code",
   "execution_count": 3,
   "id": "b1de72bd-e5ef-4d6c-97fb-4dd18b8943d1",
   "metadata": {},
   "outputs": [
    {
     "data": {
      "text/html": [
       "<div>\n",
       "<style scoped>\n",
       "    .dataframe tbody tr th:only-of-type {\n",
       "        vertical-align: middle;\n",
       "    }\n",
       "\n",
       "    .dataframe tbody tr th {\n",
       "        vertical-align: top;\n",
       "    }\n",
       "\n",
       "    .dataframe thead th {\n",
       "        text-align: right;\n",
       "    }\n",
       "</style>\n",
       "<table border=\"1\" class=\"dataframe\">\n",
       "  <thead>\n",
       "    <tr style=\"text-align: right;\">\n",
       "      <th></th>\n",
       "      <th>From</th>\n",
       "      <th>To</th>\n",
       "    </tr>\n",
       "  </thead>\n",
       "  <tbody>\n",
       "    <tr>\n",
       "      <th>0</th>\n",
       "      <td>Abduction</td>\n",
       "      <td>Bayesian Epistemology</td>\n",
       "    </tr>\n",
       "    <tr>\n",
       "      <th>1</th>\n",
       "      <td>Abduction</td>\n",
       "      <td>The Problem of Induction</td>\n",
       "    </tr>\n",
       "    <tr>\n",
       "      <th>2</th>\n",
       "      <td>Abduction</td>\n",
       "      <td>Charles Sanders Peirce</td>\n",
       "    </tr>\n",
       "    <tr>\n",
       "      <th>3</th>\n",
       "      <td>Abduction</td>\n",
       "      <td>Scientific Explanation</td>\n",
       "    </tr>\n",
       "    <tr>\n",
       "      <th>4</th>\n",
       "      <td>Abduction</td>\n",
       "      <td>Scientific Realism</td>\n",
       "    </tr>\n",
       "    <tr>\n",
       "      <th>...</th>\n",
       "      <td>...</td>\n",
       "      <td>...</td>\n",
       "    </tr>\n",
       "    <tr>\n",
       "      <th>17866</th>\n",
       "      <td>Zombies</td>\n",
       "      <td>Physicalism</td>\n",
       "    </tr>\n",
       "    <tr>\n",
       "      <th>17867</th>\n",
       "      <td>Zombies</td>\n",
       "      <td>Private Language</td>\n",
       "    </tr>\n",
       "    <tr>\n",
       "      <th>17868</th>\n",
       "      <td>Zombies</td>\n",
       "      <td>Qualia</td>\n",
       "    </tr>\n",
       "    <tr>\n",
       "      <th>17869</th>\n",
       "      <td>Zombies</td>\n",
       "      <td>Skepticism</td>\n",
       "    </tr>\n",
       "    <tr>\n",
       "      <th>17870</th>\n",
       "      <td>Zombies</td>\n",
       "      <td>Supervenience</td>\n",
       "    </tr>\n",
       "  </tbody>\n",
       "</table>\n",
       "<p>17871 rows × 2 columns</p>\n",
       "</div>"
      ],
      "text/plain": [
       "            From                        To\n",
       "0      Abduction     Bayesian Epistemology\n",
       "1      Abduction  The Problem of Induction\n",
       "2      Abduction    Charles Sanders Peirce\n",
       "3      Abduction    Scientific Explanation\n",
       "4      Abduction        Scientific Realism\n",
       "...          ...                       ...\n",
       "17866    Zombies               Physicalism\n",
       "17867    Zombies          Private Language\n",
       "17868    Zombies                    Qualia\n",
       "17869    Zombies                Skepticism\n",
       "17870    Zombies             Supervenience\n",
       "\n",
       "[17871 rows x 2 columns]"
      ]
     },
     "execution_count": 3,
     "metadata": {},
     "output_type": "execute_result"
    }
   ],
   "source": [
    "df"
   ]
  },
  {
   "cell_type": "code",
   "execution_count": 4,
   "id": "ad0a60c7-0c6d-49fb-bbdf-b924dc54d71b",
   "metadata": {},
   "outputs": [],
   "source": [
    "G = nx.from_pandas_edgelist(df, 'From', 'To')"
   ]
  },
  {
   "cell_type": "code",
   "execution_count": 5,
   "id": "b6d27eb8-8dbe-4c24-8fef-4b852883c25b",
   "metadata": {},
   "outputs": [
    {
     "data": {
      "text/plain": [
       "True"
      ]
     },
     "execution_count": 5,
     "metadata": {},
     "output_type": "execute_result"
    }
   ],
   "source": [
    "nx.is_connected(G)"
   ]
  },
  {
   "cell_type": "code",
   "execution_count": 6,
   "id": "4321b89d-461c-4c80-8245-ceb497afdd02",
   "metadata": {},
   "outputs": [
    {
     "data": {
      "text/plain": [
       "networkx.classes.graph.Graph"
      ]
     },
     "execution_count": 6,
     "metadata": {},
     "output_type": "execute_result"
    }
   ],
   "source": [
    "type(G)"
   ]
  },
  {
   "cell_type": "code",
   "execution_count": 7,
   "id": "5a244237-1aa7-46b3-af40-6c421214547b",
   "metadata": {},
   "outputs": [],
   "source": [
    "H = nx.from_pandas_edgelist(df, 'From', 'To', create_using=nx.DiGraph)"
   ]
  },
  {
   "cell_type": "code",
   "execution_count": 8,
   "id": "f419ba00-759c-4519-a147-68fc6a940dc6",
   "metadata": {},
   "outputs": [
    {
     "data": {
      "text/plain": [
       "True"
      ]
     },
     "execution_count": 8,
     "metadata": {},
     "output_type": "execute_result"
    }
   ],
   "source": [
    "nx.is_weakly_connected(H)"
   ]
  },
  {
   "cell_type": "code",
   "execution_count": 9,
   "id": "7c24af3a-9c84-43ee-bc2b-6c870327a5ae",
   "metadata": {},
   "outputs": [
    {
     "data": {
      "text/plain": [
       "False"
      ]
     },
     "execution_count": 9,
     "metadata": {},
     "output_type": "execute_result"
    }
   ],
   "source": [
    "nx.is_strongly_connected(H)"
   ]
  },
  {
   "cell_type": "code",
   "execution_count": 10,
   "id": "f6d267ea-257c-4721-993c-71afbe9a90d2",
   "metadata": {},
   "outputs": [
    {
     "data": {
      "text/plain": [
       "1"
      ]
     },
     "execution_count": 10,
     "metadata": {},
     "output_type": "execute_result"
    }
   ],
   "source": [
    "nx.edge_connectivity(G)"
   ]
  },
  {
   "cell_type": "code",
   "execution_count": 11,
   "id": "0e3c6454-bbd2-4f87-8686-268424e4902f",
   "metadata": {},
   "outputs": [
    {
     "data": {
      "text/plain": [
       "{('Properties',\n",
       "  'https://plato.stanford.edu/entriesps://plato.stanford.edu/entries/species/')}"
      ]
     },
     "execution_count": 11,
     "metadata": {},
     "output_type": "execute_result"
    }
   ],
   "source": [
    "nx.minimum_edge_cut(G)"
   ]
  },
  {
   "cell_type": "code",
   "execution_count": null,
   "id": "36868db9-ab02-4a46-bbb3-0e27ac9646fe",
   "metadata": {},
   "outputs": [],
   "source": []
  }
 ],
 "metadata": {
  "kernelspec": {
   "display_name": "Python 3 (ipykernel)",
   "language": "python",
   "name": "python3"
  },
  "language_info": {
   "codemirror_mode": {
    "name": "ipython",
    "version": 3
   },
   "file_extension": ".py",
   "mimetype": "text/x-python",
   "name": "python",
   "nbconvert_exporter": "python",
   "pygments_lexer": "ipython3",
   "version": "3.9.7"
  }
 },
 "nbformat": 4,
 "nbformat_minor": 5
}
