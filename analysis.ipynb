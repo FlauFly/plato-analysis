{
 "cells": [
  {
   "cell_type": "code",
   "execution_count": 1,
   "id": "372b2345-9cae-48bd-83b5-8720c813da52",
   "metadata": {},
   "outputs": [],
   "source": [
    "import pandas as pd\n",
    "import numpy as np\n",
    "import networkx as nx\n",
    "import matplotlib.pyplot as plt\n",
    "import seaborn as sns"
   ]
  },
  {
   "cell_type": "code",
   "execution_count": 2,
   "id": "1f0f3b5c-e98e-4458-a914-38c789c4f5ca",
   "metadata": {},
   "outputs": [],
   "source": [
    "df = pd.read_csv('data.csv')"
   ]
  },
  {
   "cell_type": "code",
   "execution_count": 3,
   "id": "b1de72bd-e5ef-4d6c-97fb-4dd18b8943d1",
   "metadata": {},
   "outputs": [
    {
     "data": {
      "text/html": [
       "<div>\n",
       "<style scoped>\n",
       "    .dataframe tbody tr th:only-of-type {\n",
       "        vertical-align: middle;\n",
       "    }\n",
       "\n",
       "    .dataframe tbody tr th {\n",
       "        vertical-align: top;\n",
       "    }\n",
       "\n",
       "    .dataframe thead th {\n",
       "        text-align: right;\n",
       "    }\n",
       "</style>\n",
       "<table border=\"1\" class=\"dataframe\">\n",
       "  <thead>\n",
       "    <tr style=\"text-align: right;\">\n",
       "      <th></th>\n",
       "      <th>From</th>\n",
       "      <th>To</th>\n",
       "    </tr>\n",
       "  </thead>\n",
       "  <tbody>\n",
       "    <tr>\n",
       "      <th>0</th>\n",
       "      <td>Abduction</td>\n",
       "      <td>Bayesian Epistemology</td>\n",
       "    </tr>\n",
       "    <tr>\n",
       "      <th>1</th>\n",
       "      <td>Abduction</td>\n",
       "      <td>The Problem of Induction</td>\n",
       "    </tr>\n",
       "    <tr>\n",
       "      <th>2</th>\n",
       "      <td>Abduction</td>\n",
       "      <td>Charles Sanders Peirce</td>\n",
       "    </tr>\n",
       "    <tr>\n",
       "      <th>3</th>\n",
       "      <td>Abduction</td>\n",
       "      <td>Scientific Explanation</td>\n",
       "    </tr>\n",
       "    <tr>\n",
       "      <th>4</th>\n",
       "      <td>Abduction</td>\n",
       "      <td>Scientific Realism</td>\n",
       "    </tr>\n",
       "    <tr>\n",
       "      <th>...</th>\n",
       "      <td>...</td>\n",
       "      <td>...</td>\n",
       "    </tr>\n",
       "    <tr>\n",
       "      <th>17871</th>\n",
       "      <td>Zombies</td>\n",
       "      <td>Physicalism</td>\n",
       "    </tr>\n",
       "    <tr>\n",
       "      <th>17872</th>\n",
       "      <td>Zombies</td>\n",
       "      <td>Private Language</td>\n",
       "    </tr>\n",
       "    <tr>\n",
       "      <th>17873</th>\n",
       "      <td>Zombies</td>\n",
       "      <td>Qualia</td>\n",
       "    </tr>\n",
       "    <tr>\n",
       "      <th>17874</th>\n",
       "      <td>Zombies</td>\n",
       "      <td>Skepticism</td>\n",
       "    </tr>\n",
       "    <tr>\n",
       "      <th>17875</th>\n",
       "      <td>Zombies</td>\n",
       "      <td>Supervenience</td>\n",
       "    </tr>\n",
       "  </tbody>\n",
       "</table>\n",
       "<p>17876 rows × 2 columns</p>\n",
       "</div>"
      ],
      "text/plain": [
       "            From                        To\n",
       "0      Abduction     Bayesian Epistemology\n",
       "1      Abduction  The Problem of Induction\n",
       "2      Abduction    Charles Sanders Peirce\n",
       "3      Abduction    Scientific Explanation\n",
       "4      Abduction        Scientific Realism\n",
       "...          ...                       ...\n",
       "17871    Zombies               Physicalism\n",
       "17872    Zombies          Private Language\n",
       "17873    Zombies                    Qualia\n",
       "17874    Zombies                Skepticism\n",
       "17875    Zombies             Supervenience\n",
       "\n",
       "[17876 rows x 2 columns]"
      ]
     },
     "execution_count": 3,
     "metadata": {},
     "output_type": "execute_result"
    }
   ],
   "source": [
    "df"
   ]
  },
  {
   "cell_type": "code",
   "execution_count": 4,
   "id": "ad0a60c7-0c6d-49fb-bbdf-b924dc54d71b",
   "metadata": {},
   "outputs": [],
   "source": [
    "G = nx.from_pandas_edgelist(df, 'From', 'To')"
   ]
  },
  {
   "cell_type": "code",
   "execution_count": 5,
   "id": "b6d27eb8-8dbe-4c24-8fef-4b852883c25b",
   "metadata": {},
   "outputs": [
    {
     "data": {
      "text/plain": [
       "True"
      ]
     },
     "execution_count": 5,
     "metadata": {},
     "output_type": "execute_result"
    }
   ],
   "source": [
    "nx.is_connected(G)"
   ]
  },
  {
   "cell_type": "code",
   "execution_count": 6,
   "id": "4321b89d-461c-4c80-8245-ceb497afdd02",
   "metadata": {},
   "outputs": [
    {
     "data": {
      "text/plain": [
       "networkx.classes.graph.Graph"
      ]
     },
     "execution_count": 6,
     "metadata": {},
     "output_type": "execute_result"
    }
   ],
   "source": [
    "type(G)"
   ]
  },
  {
   "cell_type": "code",
   "execution_count": 7,
   "id": "5a244237-1aa7-46b3-af40-6c421214547b",
   "metadata": {},
   "outputs": [],
   "source": [
    "H = nx.from_pandas_edgelist(df, 'From', 'To', create_using=nx.DiGraph)"
   ]
  },
  {
   "cell_type": "code",
   "execution_count": 8,
   "id": "f419ba00-759c-4519-a147-68fc6a940dc6",
   "metadata": {},
   "outputs": [
    {
     "data": {
      "text/plain": [
       "True"
      ]
     },
     "execution_count": 8,
     "metadata": {},
     "output_type": "execute_result"
    }
   ],
   "source": [
    "nx.is_weakly_connected(H)"
   ]
  },
  {
   "cell_type": "code",
   "execution_count": 9,
   "id": "7c24af3a-9c84-43ee-bc2b-6c870327a5ae",
   "metadata": {},
   "outputs": [
    {
     "data": {
      "text/plain": [
       "False"
      ]
     },
     "execution_count": 9,
     "metadata": {},
     "output_type": "execute_result"
    }
   ],
   "source": [
    "nx.is_strongly_connected(H)"
   ]
  },
  {
   "cell_type": "code",
   "execution_count": 10,
   "id": "f6d267ea-257c-4721-993c-71afbe9a90d2",
   "metadata": {},
   "outputs": [
    {
     "data": {
      "text/plain": [
       "2"
      ]
     },
     "execution_count": 10,
     "metadata": {},
     "output_type": "execute_result"
    }
   ],
   "source": [
    "nx.edge_connectivity(G)"
   ]
  },
  {
   "cell_type": "code",
   "execution_count": 11,
   "id": "0e3c6454-bbd2-4f87-8686-268424e4902f",
   "metadata": {},
   "outputs": [
    {
     "data": {
      "text/plain": [
       "{('Boltzmann’s Work in Statistical Physics', 'The Ergodic Hierarchy'),\n",
       " ('Supervenience', 'The Ergodic Hierarchy')}"
      ]
     },
     "execution_count": 11,
     "metadata": {},
     "output_type": "execute_result"
    }
   ],
   "source": [
    "nx.minimum_edge_cut(G)"
   ]
  },
  {
   "cell_type": "markdown",
   "id": "ce3ea87c-2233-43bf-a5f0-056e4f9a5780",
   "metadata": {},
   "source": [
    "Tutaj przydałoby się pokazać ile wchodzi połączeń z wierzchołka \"William Stanley Jevons\", a ile wychodzi. Sprawdziłem samą encyklopedię bezpośrednio i wychodzi na to, że \"Emily Jones\" to jedyny artykuł, który linkuje do tego, a jedyny do którego linkuje on sam to \"Boole\". "
   ]
  },
  {
   "cell_type": "code",
   "execution_count": 12,
   "id": "a1884aa4-d450-47b6-83b3-810c87a955c9",
   "metadata": {},
   "outputs": [
    {
     "data": {
      "text/plain": [
       "2"
      ]
     },
     "execution_count": 12,
     "metadata": {},
     "output_type": "execute_result"
    }
   ],
   "source": [
    "nx.degree(G, 'William Stanley Jevons')"
   ]
  },
  {
   "cell_type": "code",
   "execution_count": 13,
   "id": "f2bbd128-14c5-4f0f-96b1-e3dacede0e70",
   "metadata": {},
   "outputs": [
    {
     "data": {
      "text/plain": [
       "1"
      ]
     },
     "execution_count": 13,
     "metadata": {},
     "output_type": "execute_result"
    }
   ],
   "source": [
    "H.in_degree('William Stanley Jevons')"
   ]
  },
  {
   "cell_type": "code",
   "execution_count": 14,
   "id": "ee6a8c61-eaab-439b-943f-461f8042adaf",
   "metadata": {},
   "outputs": [
    {
     "data": {
      "text/plain": [
       "InEdgeDataView([('Emily Elizabeth Constance Jones', 'William Stanley Jevons')])"
      ]
     },
     "execution_count": 14,
     "metadata": {},
     "output_type": "execute_result"
    }
   ],
   "source": [
    "H.in_edges('William Stanley Jevons')"
   ]
  },
  {
   "cell_type": "code",
   "execution_count": 15,
   "id": "dc28c5fe-64ad-4bcd-bdc9-205c61dc1910",
   "metadata": {},
   "outputs": [
    {
     "data": {
      "text/plain": [
       "1"
      ]
     },
     "execution_count": 15,
     "metadata": {},
     "output_type": "execute_result"
    }
   ],
   "source": [
    "H.out_degree('William Stanley Jevons')"
   ]
  },
  {
   "cell_type": "code",
   "execution_count": 16,
   "id": "7b77c7a9-e39d-40a1-94a9-c5174542aeb0",
   "metadata": {},
   "outputs": [
    {
     "data": {
      "text/plain": [
       "OutEdgeDataView([('William Stanley Jevons', 'George Boole')])"
      ]
     },
     "execution_count": 16,
     "metadata": {},
     "output_type": "execute_result"
    }
   ],
   "source": [
    "H.out_edges('William Stanley Jevons')"
   ]
  },
  {
   "cell_type": "markdown",
   "id": "ac87ddd1-1afe-45cb-92e5-16c7fe21a5de",
   "metadata": {},
   "source": [
    "Minimal edge cut for this graph is for two edges leading in and out of node 'William Stanley Jevons', because corresponding article is linked only in 'Emily Elizabeth Constance Jones' and is linking only to article 'George Bool'."
   ]
  },
  {
   "cell_type": "code",
   "execution_count": 17,
   "id": "2784227b-333a-42ec-ae2d-5ea31673870e",
   "metadata": {},
   "outputs": [
    {
     "data": {
      "text/plain": [
       "2"
      ]
     },
     "execution_count": 17,
     "metadata": {},
     "output_type": "execute_result"
    }
   ],
   "source": [
    "nx.node_connectivity(G)"
   ]
  },
  {
   "cell_type": "code",
   "execution_count": 18,
   "id": "3a20a8a3-5bad-432f-8677-cff816e3d5e7",
   "metadata": {},
   "outputs": [
    {
     "data": {
      "text/plain": [
       "{'Maimonides', 'Marsilio Ficino'}"
      ]
     },
     "execution_count": 18,
     "metadata": {},
     "output_type": "execute_result"
    }
   ],
   "source": [
    "nx.minimum_node_cut(G)"
   ]
  },
  {
   "cell_type": "markdown",
   "id": "73271d69-cc54-4dc1-bdfb-5b3613a928b3",
   "metadata": {},
   "source": [
    "Output of function above shows that if we delete two articles, 'Maimonides' and 'Marsilio Ficino', body of work of philosophy, as represented by Stanford Encyclopedia of Philosophy, becomes disconnected. Further exploration could reveal why that is the case."
   ]
  },
  {
   "cell_type": "code",
   "execution_count": 19,
   "id": "99ec936d-2f7d-470d-9c63-0b7cf3cdbf84",
   "metadata": {},
   "outputs": [
    {
     "data": {
      "text/plain": [
       "3.172460007790476"
      ]
     },
     "execution_count": 19,
     "metadata": {},
     "output_type": "execute_result"
    }
   ],
   "source": [
    "nx.average_shortest_path_length(G)"
   ]
  },
  {
   "cell_type": "code",
   "execution_count": 20,
   "id": "9dfcef81-1e34-4f21-b045-b54e76a35356",
   "metadata": {},
   "outputs": [
    {
     "data": {
      "text/plain": [
       "4"
      ]
     },
     "execution_count": 20,
     "metadata": {},
     "output_type": "execute_result"
    }
   ],
   "source": [
    "nx.radius(G)"
   ]
  },
  {
   "cell_type": "code",
   "execution_count": 21,
   "id": "5c6b89ea-4207-4b6b-acc1-0878990525eb",
   "metadata": {},
   "outputs": [
    {
     "data": {
      "text/plain": [
       "6"
      ]
     },
     "execution_count": 21,
     "metadata": {},
     "output_type": "execute_result"
    }
   ],
   "source": [
    "nx.diameter(G)"
   ]
  },
  {
   "cell_type": "code",
   "execution_count": 22,
   "id": "1c49fc8e-a7c7-4323-b040-83d06ea0c669",
   "metadata": {},
   "outputs": [
    {
     "data": {
      "text/plain": [
       "['The Problem of Induction',\n",
       " 'Charles Sanders Peirce',\n",
       " 'Scientific Explanation',\n",
       " 'Simplicity',\n",
       " 'Skepticism',\n",
       " 'Medieval Mereology',\n",
       " 'The Medieval Problem of Universals',\n",
       " 'Atomism from the 17th to the 20th Century',\n",
       " 'Epistemology',\n",
       " 'Action',\n",
       " 'Compatibilism',\n",
       " 'Dispositions',\n",
       " 'Arguments for Incompatibilism',\n",
       " 'Modal Logic',\n",
       " 'Causal Determinism',\n",
       " 'Foreknowledge and Free Will',\n",
       " 'God and Other Ultimates',\n",
       " 'Trinity',\n",
       " 'Abstract Objects',\n",
       " 'The Analytic/Synthetic Distinction',\n",
       " 'Object',\n",
       " 'Physicalism',\n",
       " 'Donald Davidson',\n",
       " 'Intention',\n",
       " 'Reasons for Action: Justification, Motivation, Explanation',\n",
       " 'Phenomenology',\n",
       " 'Possible Objects',\n",
       " 'Consequentialism',\n",
       " 'Darwinism',\n",
       " 'John Dewey',\n",
       " 'William James',\n",
       " 'George Herbert Mead',\n",
       " 'Josiah Royce',\n",
       " 'Walter Benjamin',\n",
       " 'Georg Wilhelm Friedrich Hegel',\n",
       " 'Martin Heidegger',\n",
       " 'Edmund Husserl',\n",
       " 'Identity',\n",
       " 'Immanuel Kant',\n",
       " 'Karl Popper',\n",
       " 'Truth',\n",
       " 'Personal Autonomy',\n",
       " 'Personal Identity',\n",
       " 'Personal Identity and Ethics',\n",
       " 'Well-Being',\n",
       " 'Relativism',\n",
       " 'Thomas Reid',\n",
       " 'Jean-Paul Sartre',\n",
       " 'Voltaire',\n",
       " 'Johann Gottfried von Herder',\n",
       " 'Gottfried Wilhelm Leibniz',\n",
       " 'Virtue Ethics',\n",
       " 'Death',\n",
       " 'Dualism',\n",
       " 'Philosophy of Religion',\n",
       " 'Free Will',\n",
       " 'Incompatibilist (Nondeterministic) Theories of Free Will',\n",
       " 'Plotinus',\n",
       " 'Aristotle',\n",
       " 'Plato',\n",
       " 'Aristotle’s Metaphysics',\n",
       " 'Compositionality',\n",
       " 'Saint Thomas Aquinas',\n",
       " 'Properties',\n",
       " 'Substance',\n",
       " 'The Problem of Evil',\n",
       " 'Time',\n",
       " 'Pythagoras',\n",
       " 'John Anderson',\n",
       " 'History of the Ontology of Art',\n",
       " 'Pantheism',\n",
       " 'Stoicism',\n",
       " 'Egoism',\n",
       " 'Auguste Comte',\n",
       " 'Culture and Cognitive Science',\n",
       " 'Hedonism',\n",
       " 'Reference',\n",
       " 'Sorites Paradox',\n",
       " 'Vagueness',\n",
       " 'Metaphor',\n",
       " 'Analysis',\n",
       " 'René Descartes',\n",
       " 'George Edward Moore',\n",
       " 'Bertrand Russell',\n",
       " 'Ludwig Wittgenstein',\n",
       " 'Definitions',\n",
       " 'Theories of Meaning',\n",
       " 'Metaphysics',\n",
       " 'Naturalism',\n",
       " 'Rationalism vs. Empiricism',\n",
       " 'Paul Feyerabend',\n",
       " 'Facts',\n",
       " 'Thomas Hill Green',\n",
       " 'Heraclitus',\n",
       " 'Animal Cognition',\n",
       " 'Animal Consciousness',\n",
       " 'Belief',\n",
       " 'Margaret Lucas Cavendish',\n",
       " 'Concepts',\n",
       " 'Feminist Epistemology and Philosophy of Science',\n",
       " 'The Language of Thought Hypothesis',\n",
       " 'Ancient Logic',\n",
       " 'Mental Representation',\n",
       " 'Multiple Realizability',\n",
       " 'Other Minds',\n",
       " 'The Contents of Perception',\n",
       " 'Franz Brentano',\n",
       " 'Consciousness',\n",
       " 'Intentionality',\n",
       " 'John Locke',\n",
       " 'Emotion',\n",
       " 'Anomalous Monism',\n",
       " 'Monism',\n",
       " 'Ontological Arguments',\n",
       " 'Naturalism in Epistemology',\n",
       " 'Natural Kinds',\n",
       " 'Essential vs. Accidental Properties',\n",
       " 'Imagination',\n",
       " 'Intentionality in Ancient Philosophy',\n",
       " 'Mysticism',\n",
       " 'Hannah Arendt',\n",
       " 'Thomas Hobbes',\n",
       " 'Argument and Argumentation',\n",
       " 'Francis Bacon',\n",
       " 'Virtue Epistemology',\n",
       " 'Feminist Perspectives on Argumentation',\n",
       " 'David Hume',\n",
       " 'Aristotle on Non-contradiction',\n",
       " 'Dialetheism',\n",
       " 'Seventeenth-Century Theories of Consciousness',\n",
       " 'Arthur Schopenhauer',\n",
       " 'Ordinary Objects',\n",
       " 'Cognitive Science',\n",
       " 'John Langshaw Austin',\n",
       " 'Convention',\n",
       " 'John Stuart Mill',\n",
       " 'Robert Boyle',\n",
       " 'Change and Inconsistency',\n",
       " 'Zeno’s Paradoxes',\n",
       " 'Attention',\n",
       " 'The Problem of Perception',\n",
       " 'Peter Frederick Strawson',\n",
       " 'Tropes',\n",
       " 'The Metaphysics of Causation',\n",
       " 'Moral Cognitivism vs. Non-Cognitivism',\n",
       " 'William Whewell',\n",
       " 'Pierre Duhem',\n",
       " 'Realism',\n",
       " 'Idealism',\n",
       " 'Kant’s Theory of Judgment',\n",
       " 'Positive and Negative Liberty',\n",
       " 'Propositions',\n",
       " 'Hermann Cohen',\n",
       " 'Johann Gottlieb Fichte',\n",
       " 'Heinrich Rickert',\n",
       " 'The History of Utilitarianism',\n",
       " 'Nothingness',\n",
       " 'George Berkeley',\n",
       " 'Isaiah Berlin',\n",
       " 'Categories',\n",
       " 'Wilhelm Dilthey',\n",
       " 'Giambattista Vico',\n",
       " 'Thomas Kuhn',\n",
       " 'Developmental Biology',\n",
       " 'Blame',\n",
       " 'Natural Theology and Natural Religion',\n",
       " 'Existence',\n",
       " 'Continuity and Infinitesimals',\n",
       " 'Mereology',\n",
       " 'Hermann Lotze',\n",
       " 'The Correspondence Theory of Truth',\n",
       " 'Kant’s Philosophy of Mathematics',\n",
       " 'Samuel Clarke',\n",
       " 'Intrinsic vs. Extrinsic Properties',\n",
       " 'Kant and Hume on Causality',\n",
       " 'David Lewis',\n",
       " 'Descartes’ Epistemology',\n",
       " 'Isaac Newton',\n",
       " 'Scientific Method',\n",
       " 'The Unity of Science',\n",
       " 'The Historical Controversies Surrounding Innateness',\n",
       " 'Ontological Dependence',\n",
       " 'Logical Pluralism',\n",
       " 'Henry David Thoreau',\n",
       " 'Anthony Collins',\n",
       " 'Cosmological Argument',\n",
       " 'Metaethics',\n",
       " 'The Unity of Consciousness',\n",
       " 'Panpsychism',\n",
       " 'Metaphysical Grounding',\n",
       " 'The Experience and Perception of Time',\n",
       " 'Moral Realism',\n",
       " 'Continental Rationalism',\n",
       " 'Descartes and the Pineal Gland',\n",
       " 'Descartes’ Modal Metaphysics',\n",
       " 'Leibniz’s Influence on Kant',\n",
       " 'Fatalism',\n",
       " 'Henricus Regius',\n",
       " 'Leibniz’s Modal Metaphysics',\n",
       " 'Nonexistent Objects',\n",
       " 'Rigid Designators',\n",
       " 'Process Philosophy',\n",
       " 'Historicist Theories of Scientific Rationality',\n",
       " 'Religious Experience',\n",
       " 'Methodological Individualism',\n",
       " 'Imre Lakatos',\n",
       " 'Jean François Lyotard',\n",
       " 'Ayn Rand',\n",
       " 'Material Constitution',\n",
       " 'Otto Neurath',\n",
       " 'A Priorism in Moral Epistemology',\n",
       " 'Kant’s Philosophy of Religion',\n",
       " 'Analytic Feminism',\n",
       " 'Plato’s Ethics: An Overview',\n",
       " 'Nicolai Hartmann',\n",
       " 'Max Scheler',\n",
       " 'Self-Consciousness',\n",
       " 'The Problem of the Many',\n",
       " 'Temporal Parts',\n",
       " 'Kant’s Philosophical Development',\n",
       " 'Personalism',\n",
       " 'Luther’s Influence on Philosophy',\n",
       " 'Metaphysical Explanation',\n",
       " 'Moral Phenomenology',\n",
       " 'Edith Stein',\n",
       " 'Phenomenology of Religion',\n",
       " 'Leo Strauss']"
      ]
     },
     "execution_count": 22,
     "metadata": {},
     "output_type": "execute_result"
    }
   ],
   "source": [
    "nx.center(G)"
   ]
  },
  {
   "cell_type": "code",
   "execution_count": 23,
   "id": "d8c229f6-79e1-4909-b252-47edf18a44ee",
   "metadata": {},
   "outputs": [
    {
     "data": {
      "text/plain": [
       "['Judah Abrabanel',\n",
       " 'Affirmative Action',\n",
       " 'Equality of Educational Opportunity',\n",
       " 'Equality of Opportunity',\n",
       " 'Black Reparations',\n",
       " 'African Sage Philosophy',\n",
       " 'Contemporary Africana Philosophy',\n",
       " 'Giovanni Pico della Mirandola',\n",
       " 'Elijah Delmedigo',\n",
       " 'William Heytesbury',\n",
       " 'Algebra',\n",
       " 'The Algebra of Logic Tradition',\n",
       " 'George Boole',\n",
       " 'Robert Alyngton',\n",
       " 'Olympiodorus',\n",
       " 'Ikhwân al-Safâ’',\n",
       " 'Shem Tov Ibn Falaquera',\n",
       " 'Henry of Ghent',\n",
       " 'Pietro Pomponazzi',\n",
       " 'Ibn ‘Arabî',\n",
       " 'Pyrrho',\n",
       " 'Marsilius of Inghen',\n",
       " 'Francesco Patrizi',\n",
       " 'Voting Methods',\n",
       " 'The Modern History of Computing',\n",
       " 'Ethics of Artificial Intelligence and Robotics',\n",
       " 'Computing and Moral Responsibility',\n",
       " 'Internet Research Ethics',\n",
       " 'Search Engines and Ethics',\n",
       " 'Peter Auriol',\n",
       " 'Gregory of Rimini',\n",
       " 'John Austin',\n",
       " 'Citizenship',\n",
       " 'Richard the Sophister',\n",
       " 'The Kochen-Specker Theorem',\n",
       " 'Public Health Ethics',\n",
       " 'Bohr’s Correspondence Principle',\n",
       " 'Copenhagen Interpretation of Quantum Mechanics',\n",
       " 'The Uncertainty Principle',\n",
       " 'Nicholas of Autrecourt',\n",
       " 'Sophismata',\n",
       " 'Simpson’s Paradox',\n",
       " 'Tiantai Buddhism',\n",
       " 'Chinese Philosophy and Chinese Medicine',\n",
       " 'Science and Chinese Philosophy',\n",
       " 'Laozi',\n",
       " 'Philosophy in Han Dynasty China',\n",
       " 'Chinese Philosophy of Change (Yijing)',\n",
       " 'Song-Ming Confucianism',\n",
       " 'The Theory of Two Truths in Tibet',\n",
       " 'Political Representation',\n",
       " 'Social Minimum',\n",
       " 'Exploitation',\n",
       " 'Immigration',\n",
       " 'Secession',\n",
       " 'Computational Complexity Theory',\n",
       " 'Quantum Computing',\n",
       " 'Quantum Entanglement and Information',\n",
       " 'Japanese Confucian Philosophy',\n",
       " 'Medieval Theories of Obligationes',\n",
       " 'Reconciliation',\n",
       " 'Public Reason',\n",
       " 'The Ethics and Rationality of Voting',\n",
       " 'Global Democracy',\n",
       " 'Disability and Health Care Rationing',\n",
       " 'Justice and Bad Luck',\n",
       " 'Distributive Justice and Empirical Moral Psychology',\n",
       " 'Justice as a Virtue',\n",
       " 'Latin American Philosophy: Metaphilosophical Foundations',\n",
       " 'Proof Theory',\n",
       " 'The Ergodic Hierarchy',\n",
       " 'Boltzmann’s Work in Statistical Physics',\n",
       " 'Richard Kilvington',\n",
       " 'Gaṅgeśa',\n",
       " 'Gelukpa [dge lugs pa]',\n",
       " 'Tsongkhapa',\n",
       " 'Gorampa [go rams pa]',\n",
       " 'Territorial Rights and Territorial Justice',\n",
       " 'Ibn Rushd’s Natural Philosophy',\n",
       " 'Information Processing and Thermodynamic Entropy',\n",
       " 'The Kokugaku (Native Japan Studies) School',\n",
       " 'William Stanley Jevons',\n",
       " 'Climate Justice',\n",
       " 'Korean Confucianism',\n",
       " 'Liberalism in Latin America',\n",
       " 'Philosophy of Science in Latin America',\n",
       " 'Analytic Philosophy in Latin America',\n",
       " 'Mally’s Deontic Logic',\n",
       " 'Non-wellfounded Set Theory',\n",
       " 'The Epistemic Condition for Moral Responsibility',\n",
       " 'Thomas Paine',\n",
       " 'Joane Petrizi',\n",
       " 'Everett’s Relative-State Formulation of Quantum Mechanics',\n",
       " 'Many-Worlds Interpretation of Quantum Mechanics',\n",
       " 'The Consistent Histories Approach to Quantum Mechanics',\n",
       " 'Quantum Theory and Mathematical Rigor',\n",
       " 'William of Sherwood',\n",
       " 'Philosophy of Sport']"
      ]
     },
     "execution_count": 23,
     "metadata": {},
     "output_type": "execute_result"
    }
   ],
   "source": [
    "nx.periphery(G)"
   ]
  },
  {
   "cell_type": "code",
   "execution_count": 24,
   "id": "374f74df-4f8d-4eb9-9a15-a0e7ffc404bf",
   "metadata": {},
   "outputs": [],
   "source": [
    "degree = dict(nx.degree(G))"
   ]
  },
  {
   "cell_type": "code",
   "execution_count": 81,
   "id": "fb5cfb6a-f8ed-429e-bb1a-2f592aebd58f",
   "metadata": {},
   "outputs": [
    {
     "data": {
      "text/plain": [
       "22"
      ]
     },
     "execution_count": 81,
     "metadata": {},
     "output_type": "execute_result"
    }
   ],
   "source": [
    "G.degree['Zombies']"
   ]
  },
  {
   "cell_type": "code",
   "execution_count": 82,
   "id": "7ffbdd59-3ba4-42d7-8185-afece83b6e62",
   "metadata": {},
   "outputs": [
    {
     "data": {
      "text/plain": [
       "22"
      ]
     },
     "execution_count": 82,
     "metadata": {},
     "output_type": "execute_result"
    }
   ],
   "source": [
    "degree['Zombies']"
   ]
  },
  {
   "cell_type": "code",
   "execution_count": 78,
   "id": "c4a19de5-8a80-4c5d-b75d-abca15be4d8b",
   "metadata": {},
   "outputs": [
    {
     "data": {
      "text/plain": [
       "dict_keys(['Abduction', 'Bayesian Epistemology', 'The Problem of Induction', 'Charles Sanders Peirce', 'Scientific Explanation', 'Scientific Realism', 'Simplicity', 'Skepticism', 'Underdetermination of Scientific Theory', 'Peter Abelard', 'Aristotle’s Logic', 'Medieval Mereology', 'Medieval Theories of Relations', 'Medieval Theories of the Syllogism', 'The Medieval Problem of Universals', 'William of Champeaux', 'Abhidharma', 'Atomism from the 17th to the 20th Century', 'Ancient Atomism', 'Consciousness and Intentionality', 'Contradiction', 'Dharmakīrti', 'Epistemology', 'The Kyoto School', 'Madhyamaka', 'Mind in Indian Buddhist Philosophy', 'Nāgārjuna', 'Śāntarakṣita', 'Vasubandhu', 'Abilities', 'Action', 'Compatibilism', 'Indicative Conditionals', 'Dispositions', 'Arguments for Incompatibilism', 'Knowledge How', 'Modal Logic', 'Abner of Burgos', 'Aristotle’s Natural Philosophy', 'Hasdai Crescas', 'Causal Determinism', 'Foreknowledge and Free Will', 'God and Other Ultimates', 'Maimonides', 'Meister Eckhart', 'Neoplatonism', 'William of Ockham', 'Baruch Spinoza', 'Trinity', 'Judah Abrabanel', 'Marsilio Ficino', 'Abstract Objects', 'The Analytic/Synthetic Distinction', 'Rudolf Carnap', 'Fictionalism', 'Gottlob Frege', 'Indispensability Arguments in the Philosophy of Mathematics', 'Nominalism in the Philosophy of Mathematics', 'Nominalism in Metaphysics', 'Object', 'Physicalism', 'Platonism in Metaphysics', 'Platonism in the Philosophy of Mathematics', 'States of Affairs', 'Types and Tokens', 'Agency', 'Shared Agency', 'Donald Davidson', 'Intention', 'Practical Reason', 'Reasons for Action: Justification, Motivation, Explanation', 'Self-Knowledge', 'Action-based Theories of Perception', 'Bodily Awareness', 'Embodied Cognition', 'Phenomenology', 'Actualism', 'Classical Logic', 'Free Logic', 'Possible Objects', 'Possible Worlds', 'Arthur Prior', 'Actualism and Possibilism in Ethics', 'Dynamic Choice', 'Consequentialism', 'Rule Consequentialism', 'Deontic Logic', 'Adaptationism', 'Philosophy of Biology', 'Darwinism', 'Evolution and Development', 'Evolution', 'Evolutionary Thought Before Darwin', 'Evolutionary Game Theory', 'Genetics', 'Ecological Genetics', 'The Genotype/Phenotype Distinction', 'Molecular Genetics', 'Population Genetics', 'Models in Science', 'Morality and Evolutionary Biology', 'Natural Selection', 'Units and Levels of Selection', 'Evolutionary Psychology', 'Theory and Observation in Science', 'Sociobiology', 'Jane Addams', 'John Dewey', 'Dewey’s Political Philosophy', 'Pragmatist Feminism', 'Feminist Ethics', 'Feminist History of Philosophy', 'Feminist Social Epistemology', 'Feminist Perspectives on Class and Work', 'William James', 'George Herbert Mead', 'Josiah Royce', 'Theodor W. Adorno', 'Walter Benjamin', 'Critical Theory', 'Domination', 'Enlightenment', 'Jürgen Habermas', 'Georg Wilhelm Friedrich Hegel', 'Hegel’s Dialectics', 'Martin Heidegger', 'Max Horkheimer', 'Edmund Husserl', 'Identity', 'Immanuel Kant', 'Georg [György] Lukács', 'Karl Marx', 'Karl Popper', 'Postmodernism', 'Truth', 'Max Weber', 'Advance Directives and Substitute Decision-Making', 'Personal Autonomy', 'The Principle of Beneficence in Applied Ethics', 'Decision-Making Capacity', 'Legal Obligation and Authority', 'Paternalism', 'Personal Identity', 'Personal Identity and Ethics', 'Respect', 'Well-Being', 'The Concept of the Aesthetic', '19th Century Romantic Aesthetics', 'Aesthetic Judgment', '18th Century British Aesthetics', 'Environmental Aesthetics', '18th Century French Aesthetics', '18th Century German Aesthetics', 'Aesthetics of the Everyday', 'Beardsley’s Aesthetics', 'Collingwood’s Aesthetics', 'Croce’s Aesthetics', 'Dewey’s Aesthetics', 'Feminist Aesthetics', 'Gadamer’s Aesthetics', 'Goodman’s Aesthetics', 'Hegel’s Aesthetics', 'Heidegger’s Aesthetics', 'Hume’s Aesthetics', 'Japanese Aesthetics', 'Kant’s Aesthetics and Teleology', 'Plato’s Aesthetics', 'Schopenhauer’s Aesthetics', 'Wittgenstein’s Aesthetics', 'Georg Friedrich Philipp von Hardenberg [Novalis]', 'Friedrich Schlegel', 'Friedrich Daniel Ernst Schleiermacher', 'Aristotle’s Aesthetics', 'Pleasure', 'Relativism', 'Edmund Burke', 'Thomas Reid', 'Scottish Philosophy in the 18th Century', 'Lord Shaftesbury [Anthony Ashley Cooper, 3rd Earl of Shaftesbury]', 'Philosophy of Architecture', 'Environmental Ethics', 'Existentialist Aesthetics', 'Simone de Beauvoir', 'Albert Camus', 'Existentialism', 'Gabriel (-Honoré) Marcel', 'Maurice Merleau-Ponty', 'Jean-Paul Sartre', 'Denis Diderot', 'Voltaire', 'Johann Gottfried von Herder', 'Gottfried Wilhelm Leibniz', 'Christian Wolff', 'The Definition of Art', 'Jean Baudrillard', 'Beauty', 'Chan Buddhism', 'Michel Foucault', 'Friedrich Schiller', 'Affirmative Action', 'Equality', 'Equality of Educational Opportunity', 'Equality of Opportunity', 'Justice', 'Black Reparations', 'Rights', 'Africana Philosophy', 'African Ethics', 'African Sage Philosophy', 'Akan Philosophy of the Person', 'Double Consciousness', 'Frederick Douglass', 'Alain LeRoy Locke', 'Négritude', 'Contemporary Africana Philosophy', 'Anna Julia Cooper', 'Critical Philosophy of Race', 'W.E.B. Du Bois', 'Frantz Fanon', 'Race', 'Virtue Ethics', 'Afterlife', 'Death', 'Dualism', 'Heaven and Hell in Christian Thought', 'Philosophy of Religion', 'Ancient Theories of Soul', 'Gertrude Elizabeth Margaret Anscombe', 'Events', 'Feminist Perspectives on Autonomy', 'Free Will', 'Incompatibilist (Nondeterministic) Theories of Free Will', 'Practical Reason and the Structure of Actions', 'Collective Intentionality', 'Collective Responsibility', 'Group Rights', 'Heinrich Cornelius Agrippa von Nettesheim', 'Giovanni Pico della Mirandola', 'Plotinus', 'The Moral Status of Animals', '‘Abd al-Latif al-Baghdadi', 'al-Farabi', 'al-Kindi', 'Greek Sources in Arabic and Islamic Philosophy', 'Aristotle', 'Ibn Rushd [Averroes]', 'Ibn Sina [Avicenna]', 'Plato', 'Proclus', 'The Theology of Aristotle', 'al-Farabi’s Philosophy of Society and Religion', 'al-Farabi’s Psychology and Epistemology', 'Arabic and Islamic Metaphysics', 'The Philosophy of Music', 'al-Farabi’s Metaphysics', 'al-Farabi’s Philosophy of Logic and Language', 'Aristotle’s Metaphysics', 'Arabic and Islamic Philosophy of Language and Logic', 'Compositionality', 'Medieval Theories of Future Contingents', 'Ibn Sina’s Logic', 'Logical Constants', 'Questions', 'Aristotle’s Ethics', 'Aristotle’s Political Theory', 'Plato’s Ethics and Politics in The Republic', 'Alexander of Aphrodisias', 'Arabic and Islamic Natural Philosophy and Natural Science', 'Arabic and Islamic Psychology and Philosophy of Mind', 'Aristotle’s Psychology', 'al-Ghazali', 'Medieval Theories of Causation', 'John Duns Scotus', 'The Influence of Islamic Thought on Maimonides', 'Medieval Theories of Modality', 'John Philoponus', 'Eternity in Christian Thought', 'Abu Bakr al-Razi', 'Influence of Arabic and Islamic Philosophy on the Latin West', 'Galen', 'Isaac Albalag', 'Influence of Arabic and Islamic Philosophy on Judaic Thought', 'Causation in Arabic and Islamic Thought', 'Elijah Delmedigo', 'Isaac Polqar', 'Albert of Saxony', 'John Buridan', 'Walter Burley', 'William Heytesbury', 'Albert the Great', 'Saint Thomas Aquinas', 'Saint Augustine', 'Binarium Famosissimum', 'Cusanus, Nicolaus [Nicolas of Cusa]', 'Dietrich of Freiberg', 'Properties', 'Pseudo-Dionysius the Areopagite', 'Substance', 'Joseph Albo', 'The Problem of Evil', 'Judah Halevi', 'Moses Mendelssohn', 'Natural Law Theories', 'Prophecy', 'Divine Providence', 'Time', 'Alcmaeon', 'Empedocles', 'Philolaus', 'Pythagoras', 'Pythagoreanism', 'Samuel Alexander', 'John Anderson', 'Francis Herbert Bradley', 'Robin George Collingwood', 'Emergent Properties', 'History of the Ontology of Art', 'Pantheism', 'Aristotelianism in the Renaissance', 'Commentators on Aristotle', 'Elias', 'Porphyry', 'Stoicism', 'Algebra', 'The Mathematics of Boolean Algebra', 'Category Theory', 'The Algebra of Logic Tradition', 'George Boole', 'Leibniz’s Influence on 19th Century Logic', 'Model Theory', 'First-order Model Theory', 'Alienation', 'Jean Jacques Rousseau', 'Socialism', 'Louis Althusser', 'Social Epistemology', 'Hermeneutics', 'Law and Ideology', 'Social Institutions', 'Spinoza’s Political Philosophy', 'Altruism', 'Biological Altruism', 'Empirical Approaches to Altruism', 'Egoism', 'Empathy', 'Impartiality', 'Moral Particularism', 'Reasons for Action: Agent-Neutral vs. Agent-Relative', 'Auguste Comte', 'Culture and Cognitive Science', 'Experimental Moral Philosophy', 'Hedonism', 'Social Norms', 'Robert Alyngton', 'William Penbygull', 'Johannes Sharpe', 'John Wyclif', 'Ambiguity', 'Anaphora', 'Pragmatics', 'Reference', 'Sorites Paradox', 'Vagueness', 'Ammonius', 'Anicius Manlius Severinus Boethius', 'Dialectical School', 'Diodorus Cronus', 'Ancient Theories of Freedom and Determinism', 'Iamblichus', 'Olympiodorus', 'Simplicius', 'Syrianus', 'Medieval Theories of Analogy', 'Aristotle’s Categories', 'Robert Grosseteste', 'Medieval Semiotics', 'Analogy and Analogical Reasoning', 'Bayes’ Theorem', 'Confirmation', 'Evidence', 'Precedent and Analogy in Legal Reasoning', 'Inductive Logic', 'Metaphor', 'Interpretations of Probability', 'Analysis', 'Bernard Bolzano', 'René Descartes', 'Descriptions', 'The Analysis of Knowledge', 'Logical Constructions', 'Logical Form', 'George Edward Moore', 'Necessary and Sufficient Conditions', 'Bertrand Russell', 'Ludwig Wittgenstein', 'A Priori Justification and Knowledge', 'Behaviorism', 'Definitions', 'Frege’s Theorem and Foundations for Arithmetic', 'Logical Truth', 'Logicism and Neologicism', 'Theories of Meaning', 'Metaphysics', 'Naturalism', 'Operationalism', 'Willard Van Orman Quine', 'Rationalism vs. Empiricism', 'Discourse Representation Theory', 'Presupposition', 'Dynamic Semantics', 'Situations in Natural Language Semantics', 'Anarchism', 'Authority', 'Autonomy in Moral and Political Philosophy', 'Paul Feyerabend', 'William Godwin', 'Libertarianism', 'Robert Nozick’s Political Philosophy', 'Pacifism', 'Political Obligation', 'Sovereignty', 'Max Stirner', 'Anaxagoras', 'Democritus', 'Doxography of Ancient Philosophy', 'Parmenides', 'Presocratic Philosophy', 'Zeno of Elea', 'Bernard Bosanquet', 'Medieval Theories of the Categories', 'Counterfactual Theories of Causation', 'Facts', 'Thomas Hill Green', 'Heraclitus', 'Informal Logic', 'Logic and Ontology', 'Challenges to Metaphysical Realism', 'Gilbert Ryle', 'Scottish Philosophy in the 19th Century', 'The Traditional Square of Opposition', 'Animal Cognition', 'Animal Consciousness', 'Belief', 'Jeremy Bentham', 'Implicit Bias', 'Margaret Lucas Cavendish', 'Concepts', 'Lady Anne Conway', 'Feminist Epistemology and Philosophy of Science', 'Functionalism', 'Ibn Bâjja [Avempace]', 'The Concept of Emotion in Classical Indian Philosophy', 'The Language of Thought Hypothesis', 'Ancient Logic', 'Nonconceptual Mental Content', 'Mental Representation', 'Multiple Realizability', 'Other Minds', 'Pain', 'The Contents of Perception', 'Scientific Objectivity', 'Bernardino Telesio', 'Xunzi', 'Zhuangzi', 'Franz Brentano', 'Consciousness', 'Higher-Order Theories of Consciousness', 'Representational Theories of Consciousness', 'Epiphenomenalism', 'Folk Psychology as a Theory', 'Intentionality', 'Eliminative Materialism', 'Mental Causation', 'The Mind/Brain Identity Theory', 'Neutral Monism', 'Animalism', 'Identity Over Time', 'Life', 'John Locke', 'Emotion', 'Feminist Political Philosophy', 'Anomalous Monism', 'Externalism About the Mind', 'Laws of Nature', 'Causal Theories of Mental Content', 'Monism', 'Psychologism', 'Supervenience', 'Doctrine of Double Effect', 'The Natural Law Tradition in Ethics', 'Moral Psychology: Empirical Approaches', 'War', 'Saint Anselm', 'Medieval Philosophy', 'Ontological Arguments', 'Antiochus of Ascalon', 'Arcesilaus', 'Carneades', 'Ancient Ethical Theory', 'Philo of Larissa', 'Ancient Skepticism', 'Naturalism in Epistemology', 'Experimental Philosophy', 'Natural Kinds', 'Defeasible Reasoning', 'Reliabilist Epistemology', 'Condemnation of 1277', 'Medieval Theories of Conscience', 'Divine Illumination', 'Giles of Rome', 'Godfrey of Fontaines', 'Jacques Maritain', 'Literary Forms of Medieval Philosophy', 'Mental Representation in Medieval Philosophy', 'Medieval Theories of Practical Reason', 'Aquinas’ Moral, Political, and Legal Philosophy', 'Medieval Theories of Demonstration', 'Ikhwân al-Safâ’', 'Essential vs. Accidental Properties', 'Solomon Ibn Gabirol [Avicebron]', 'Imagination', 'Intentionality in Ancient Philosophy', 'Memory', 'Shem Tov Ibn Falaquera', 'Gersonides', 'Abraham Ibn Daud', 'Abraham Ibn Ezra', 'Isaac Israeli', 'Samuel Ibn Tibbon', 'Happiness', 'Henry of Ghent', 'Miracles', 'Pietro Pomponazzi', 'William of Auvergne', 'Mysticism in Arabic and Islamic Philosophy', 'Ibn ‘Arabî', 'Mulla Sadra', 'Mysticism', 'Suhrawardi', 'Pyrrho', 'Sextus Empiricus', 'Socrates', 'Artifact', 'Roman Ingarden', 'Archytas', 'Hannah Arendt', 'Thomas Hobbes', 'Karl Jaspers', 'Niccolò Machiavelli', 'Argument and Argumentation', 'Aristotle’s Rhetoric', 'Francis Bacon', 'Logic and Language in Early Chinese Philosophy', 'Mohism', 'Mohist Canons', 'The Chinese Room Argument', 'Critical Thinking', 'Curry’s Paradox', 'Democracy', 'Virtue Epistemology', 'Fallacies', 'Feminist Perspectives on Argumentation', 'David Hume', 'Liar Paradox', 'Non-monotonic Logic', 'Paraconsistent Logic', 'Relevance Logic', 'Logical Consequence', 'The Social Dimensions of Scientific Knowledge', 'Susan Stebbing', 'Thought Experiments', 'Basil [Cardinal] Bessarion', 'Byzantine Philosophy', 'Galileo Galilei', 'Jacques Lefèvre d’Étaples', 'Marsilius of Inghen', 'Natural Philosophy in the Renaissance', 'Francesco Patrizi', 'Paul of Venice', 'Giacomo Zabarella', 'Aristotle’s Biology', 'Aristotle on Causality', 'Aristotle and Mathematics', 'Aristotle on Non-contradiction', 'Form vs. Matter', 'David', 'Moral Character', 'Friendship', 'Wisdom', 'Future Contingents', 'Plato on Rhetoric and Poetry', 'Episteme and Techne', 'Dialetheism', 'Plato on Knowledge in the Theaetetus', 'Antoine Arnauld', 'Seventeenth-Century Theories of Consciousness', 'Nicolas Malebranche', 'Blaise Pascal', 'Port Royal Logic', 'Arrow’s Theorem', 'Philosophy of Economics', 'Normative Economics and Economic Justice', 'Preferences', 'Social Choice Theory', 'Truthlikeness', 'Voting Methods', 'Erotic Art', 'Feminist Perspectives on Objectification', 'Friedrich Nietzsche', 'Pornography and Censorship', 'Conceptual Art', 'Arthur Schopenhauer', 'Human Enhancement', 'Phenomenological Approaches to Ethics and Information Technology', 'Ordinary Objects', 'Social Networking and Ethics', 'Philosophy of Technology', 'Artificial Intelligence', 'Logic and Artificial Intelligence', 'Probabilistic Causation', 'Cognitive Science', 'Computability and Complexity', 'The Modern History of Computing', 'Connectionism', 'The Frame Problem', 'Information Technology and Moral Values', 'Formal Learning Theory', 'Computational Linguistics', 'The Computational Theory of Mind', 'Automated Reasoning', 'Philosophy of Statistics', 'The Turing Test', 'Ethics of Artificial Intelligence and Robotics', 'Computing and Moral Responsibility', 'Internet Research Ethics', 'Search Engines and Ethics', 'Privacy and Information Technology', 'The Ethics of Manipulation', 'Assertion', 'John Langshaw Austin', 'Convention', 'Paul Grice', 'Implicature', 'Information', 'The Normativity of Meaning and Content', 'Speech Acts', 'Epistemological Problems of Testimony', 'Associationist Theories of Thought', 'Kant’s Transcendental Arguments', 'John Stuart Mill', 'Mary Astell', 'The Cambridge Platonists', 'John Norris', 'Occasionalism', 'Atheism and Agnosticism', 'The Ethics of Belief', 'Formal Representations of Belief', 'Fideism', 'Moral Arguments for the Existence of God', 'Hiddenness of God', 'Monotheism', 'Omnipotence', 'Panentheism', 'Pragmatic Arguments and Belief in God', 'Process Theism', 'Religion and Science', 'The Epistemology of Religion', 'Robert Boyle', 'Change and Inconsistency', 'Philosophy of Chemistry', 'Descartes’ Physics', 'Ernst Mach', 'Epicurus', 'Leucippus', 'Lucretius', 'Zeno’s Paradoxes', 'Attention', 'Common Knowledge', 'Hermann von Helmholtz', 'Philosophy and Christian Theology', 'Emotions in the Christian Tradition', 'Moral Responsibility', 'Ancient Political Philosophy', 'Peter Auriol', 'Gregory of Rimini', 'John Austin', 'Law and Language', 'Naturalism in Legal Philosophy', 'The Nature of Law', 'Legal Positivism', 'Alfred Jules Ayer', 'Epistemic Contextualism', 'Epistemic Closure', 'The Disjunctive Theory of Perception', 'The Problem of Perception', 'Harold Arthur Prichard', 'Sense Data', 'Peter Frederick Strawson', 'Tropes', 'Deflationism About Truth', 'John Cook Wilson', 'Authenticity', 'Integrity', 'Søren Kierkegaard', 'Citizenship', 'Communitarianism', 'Constitutionalism', 'Contractarianism', 'Egalitarianism', 'The Free Rider Problem', 'Hobbes’s Moral and Political Philosophy', 'Kant’s Social and Political Philosophy', 'Liberalism', 'Locke’s Political Philosophy', 'John Rawls', 'Feminist Perspectives on the Self', 'Identity Politics', 'Privacy', 'The Metaphysics of Causation', 'Hume on Free Will', 'Kant’s Moral Philosophy', 'Moral Motivation', 'Weakness of Will', 'Moral Cognitivism vs. Non-Cognitivism', 'The Identity of Indiscernibles', 'Moral Anti-Realism', 'Vienna Circle', 'William Whewell', 'Roger Bacon', 'Pierre Duhem', 'Robert Kilwardby', 'Realism', 'Richard the Sophister', 'Seneca', 'The Epistemic Basing Relation', 'Foundationalist Theories of Epistemic Justification', 'Internalist vs. Externalist Conceptions of Epistemic Justification', 'Herbert Marcuse', 'Bruno Bauer', 'Ludwig Andreas Feuerbach', 'Idealism', 'Pierre Bayle', 'Toleration', 'Culture', 'Ontological Commitment', 'Kant’s Theory of Judgment', 'George Santayana', 'Feminist Philosophy', 'Intersections Between Analytic and Continental Feminism', 'Intersections Between Pragmatist and Continental Feminism', 'Feminist Metaphysics', 'Feminist Perspectives on Power', 'Feminist Perspectives on Sex and Gender', 'Positive and Negative Liberty', 'Marriage and Domestic Partnership', 'Qualia', 'Delusion', 'Desire', 'Logic of Belief Revision', 'Narrow Mental Content', 'Teleological Theories of Mental Content', 'Propositional Attitude Reports', 'Propositions', 'Singular Propositions', 'Structured Propositions', 'The Value of Knowledge', 'Pascal’s Wager', 'Pragmatism', 'Self-Deception', 'Formal Epistemology', 'Epistemic Logic', 'Belief Merging and Judgment Aggregation', 'Bell’s Theorem', 'Quantum Mechanics', 'Bohmian Mechanics', 'The Kochen-Specker Theorem', 'Philosophical Issues in Quantum Theory', 'The Einstein-Podolsky-Rosen Argument in Quantum Theory', 'The Capability Approach', 'Cosmopolitanism', 'Justice and Access to Health Care', 'Theory and Bioethics', 'Business Ethics', 'Global Justice', 'International Distributive Justice', 'Public Health Ethics', 'Hermann Cohen', 'Jacques Derrida', 'Johann Gottlieb Fichte', 'Johann Georg Hamann', 'Philosophy of History', 'Heinrich Rickert', 'August Wilhelm von Schlegel', 'Carl Schmitt', 'Gershom Scholem', 'James Mill', 'Mill’s Moral and Political Philosophy', 'Legal Punishment', 'The History of Utilitarianism', 'Henri Bergson', 'Gilles Deleuze', 'Nothingness', 'George Berkeley', 'Isaiah Berlin', 'Categories', 'Wilhelm Dilthey', 'Baron de Montesquieu, Charles-Louis de Secondat', 'Nationalism', 'Neo-Kantianism', 'Value Pluralism', 'Giambattista Vico', 'Bernard Williams', 'Wilhelm Windelband', 'Theophrastus', 'Feminist Moral Psychology', 'Saint Bonaventure', 'Biological Individuals', 'Biodiversity', 'Gene', 'Philosophy of Immunology', 'Replication and Reproduction', 'Sortals', 'Species', 'Experiment in Biology', 'Counterfactuals', 'The Incommensurability of Scientific Theories', 'Thomas Kuhn', 'Molecular Biology', 'Conservation Biology', 'Creationism', 'Developmental Biology', 'Epigenesis and Preformationism', 'Ecology', 'Cultural Evolution', 'Darwin: From Origin of Species to Descent of Man', 'Fitness', 'Heritability', 'The Human Genome Project', 'Biological Information', 'The Distinction Between Innate and Acquired Characteristics', 'The Philosophy of Neuroscience', 'Reductionism in Biology', 'Teleological Notions in Biology', 'Philosophy of Biomedicine', 'Disability: Definitions, Models, Experience', 'Concepts of Disease and Health', 'Philosophy of Medicine', 'Blame', 'Desert', 'Forgiveness', 'Moral Luck', 'Phenomenological Approaches to Self-Consciousness', 'Jean Bodin', 'Republicanism', 'Natural Theology and Natural Religion', 'Boethius of Dacia', 'Existence', 'Faith', 'Truthmakers', 'Bohr’s Correspondence Principle', 'Intertheory Relations in Physics', 'Copenhagen Interpretation of Quantum Mechanics', 'The Role of Decoherence in Quantum Mechanics', 'The Uncertainty Principle', 'Bolzano’s Logic', 'Set Theory', 'The Early Development of Set Theory', 'Alfred Tarski', 'Algebraic Propositional Logic', 'Boundary', 'Continuity and Infinitesimals', 'Determinables and Determinates', 'Mereology', 'The Hole Argument', 'Bounded Rationality', 'Decision Theory', 'Descriptive Decision Theory', 'Imprecise Probabilities', 'Normative Theories of Rational Choice: Expected Utility', 'Risk', 'Pierre Gassendi', 'Mental Imagery', 'Hermann Lotze', 'John M. E. McTaggart', 'The Identity Theory of Truth', 'Francis Herbert Bradley’s Moral and Political Philosophy', 'The Philosophy of Childhood', 'Deontological Ethics', 'Perfectionism in Moral and Political Philosophy', 'Henry Sidgwick', 'Bradley’s Regress', 'Relations', 'Brentano’s Theory of Judgement', 'Temporal Consciousness', 'Christian von Ehrenfels', 'Fitting Attitude Theories of Value', 'Lvov-Warsaw School', 'Anton Marty', 'Alexius Meinong', 'Reism', 'Carl Stumpf', 'Kazimierz Twardowski', 'Negation', 'The Correspondence Theory of Truth', 'Charlie Dunbar Broad', 'Qualia: The Knowledge Argument', 'Being and Becoming in Modern Physics', 'Value Theory', 'Luitzen Egbertus Jan Brouwer', 'The Frege-Hilbert Controversy', 'Hilbert’s Program', 'Kant’s Philosophy of Mathematics', 'The Development of Intuitionistic Logic', 'Intuitionistic Logic', 'Philosophy of Mathematics', 'Formalism in the Philosophy of Mathematics', 'Intuitionism in the Philosophy of Mathematics', 'Constructive Mathematics', 'Hermann Weyl', 'Wittgenstein’s Philosophy of Mathematics', 'Giordano Bruno', 'Nicolaus Copernicus', 'Desiderius Erasmus', 'Martin Buber', 'Philosophy of Education', 'Franz Rosenzweig', 'Wilhelm Maximilian Wundt', 'Buddha', 'Japanese Zen Buddhist Philosophy', 'The Theory of Two Truths in India', 'Insolubles', 'Nicholas of Autrecourt', 'Peter of Spain', 'Sophismata', 'Medieval Theories: Properties of Terms', 'Conservatism', 'Joseph Butler’s Moral Philosophy', 'Samuel Clarke', 'Plato’s Middle Period Metaphysics and Epistemology', 'Lady Damaris Masham', 'Henry More', 'Richard Price', 'Tommaso Campanella', 'Giambattista della Porta', 'The Meaning of Life', 'Suicide', 'Cancer', 'Genomics and Postgenomics', 'Mechanisms in Science', 'Philosophy of Systems and Synthetic Biology', 'Distributive Justice', 'Girolamo [Geronimo] Cardano', 'Constructive Empiricism', 'The Epsilon Calculus', 'Structuralism in Physics', 'Proof-Theoretic Semantics', 'Structural Realism', 'Theoretical Terms in Science', 'Ernst Cassirer', 'Einstein’s Philosophy of Science', 'Early Philosophical Interpretations of General Relativity', 'Paul Natorp', 'Moritz Schlick', 'Category Mistakes', 'Causal Models', 'Causation and Manipulability', 'Causal Decision Theory', 'The Logic of Conditionals', 'Reichenbach’s Common Cause Principle', 'Backward Causation', 'Time Travel', 'Time Travel and Modern Physics', 'Intrinsic vs. Extrinsic Properties', 'Thermodynamic Asymmetry in Time', 'Causation in the Law', 'Wesley Salmon', 'Peter John Olivi', 'Nicole Oresme', 'Kant and Hume on Causality', 'Action at a Distance in Quantum Mechanics', 'Hans Reichenbach', 'Simpson’s Paradox', 'Regularity and Inferential Theories of Causation', 'David Lewis', 'Retrocausality in Quantum Mechanics', 'Philosophy of Cell Biology', 'Neuroethics', 'Scientific Reduction', 'Scientific Discovery', 'Cellular Automata', 'Chaos', 'The Church-Turing Thesis', 'Computation in Physical Systems', 'Quantum Field Theory', 'Recursive Functions', 'Turing Machines', 'Certainty', 'Descartes’ Epistemology', 'Knowledge by Acquaintance vs. Description', 'Chance versus Randomness', 'Philosophy of Statistical Mechanics', 'Inconsistent Mathematics', 'Newton’s Philosophy', 'Newton’s Views on Space, Time, and Motion', 'Empirical Approaches to Moral Character', 'Émilie du Châtelet', 'Étienne Bonnot de Condillac', 'Feminist Perspectives on Science', 'Isaac Newton', 'Principle of Sufficient Reason', 'Scientific Method', 'Theological Voluntarism', 'Walter Chatton', 'William Crathorn', 'Medieval Theories of Haecceity', 'Identity and Individuality in Quantum Theory', 'The Unity of Science', 'Philosophy for Children', 'The Historical Controversies Surrounding Innateness', 'The Grounds of Moral Status', 'Parenthood and Procreation', 'Children’s Rights', 'Philosophy in Chile', 'Latin American Philosophy', 'Huayan Buddhism', 'Tiantai Buddhism', 'Chinese Philosophy and Chinese Medicine', 'Science and Chinese Philosophy', 'Daoism', 'The Emotions in Early Chinese Philosophy', 'Epistemology in Chinese Philosophy', 'Chinese Ethics', 'Comparative Philosophy: Chinese and Western', 'Confucius', '17th and 18th Century Theories of Emotions', 'Laozi', 'Mencius', 'Neo-Daoism', 'School of Names', 'Philosophy in Han Dynasty China', 'Legalism in Chinese Philosophy', 'Metaphysics in Chinese Philosophy', 'Chinese Philosophy of Change (Yijing)', 'Ontological Dependence', 'Wang Yangming', 'Zhu Xi', 'Indexicals', 'Intensional Transitive Verbs', 'Translating and Interpreting Chinese Philosophy', 'Social and Political Thought in Chinese Philosophy', 'Qing Philosophy', 'Song-Ming Confucianism', 'The Theory of Two Truths in Tibet', 'Philosophy of Linguistics', 'Semantic Conceptions of Information', 'Alan Turing', 'Zombies', 'Roderick Chisholm', 'Transworld Identity', 'Intrinsic vs. Extrinsic Value', 'The Axiom of Choice', 'Kurt Gödel', 'Set Theory: Constructive and Intuitionistic ZF', 'Zermelo’s Axiomatization of Set Theory', 'Intuitionistic Type Theory', 'Dutch Book Arguments', 'Prisoner’s Dilemma', 'Incommensurable Values', 'Martin Luther', 'Sin in Christian Thought', 'Alonzo Church', 'Logical Empiricism', 'The Lambda Calculus', 'Connexive Logic', 'Intensional Logic', 'Second-order and Higher-order Logic', 'Logical Pluralism', 'Skolem’s Paradox', 'Principia Mathematica', 'The Notation in Principia Mathematica', 'Quantum Logic and Probability Theory', 'Truth Values', 'Church’s Type Theory', 'The Philosophy of Computer Science', 'Gödel’s Incompleteness Theorems', 'Civic Education', 'Civic Humanism', 'Civil Disobedience', 'Civil Rights', 'Terrorism', 'Henry David Thoreau', 'Disability and Justice', 'Discrimination', 'Feminist Philosophy of Law', 'Homosexuality', 'Political Representation', 'Human Rights', 'Social Minimum', 'Anthony Collins', 'Cosmological Argument', 'Divine Freedom', 'Hume on Religion', 'Climate Science', 'Science and Pseudo-Science', 'Computer Simulations in Science', 'Cloning', 'The Donation of Human Organs', 'Ethics of Stem Cell Research', 'Eugenics', 'Feminist Perspectives on Reproduction and the Family', 'Informed Consent', 'Catharine Trotter Cockburn', 'Coercion', 'Exploitation', 'Immigration', 'Public Justification', 'Political Legitimacy', 'The Limits of Law', 'Torture', 'Moral Sentimentalism', 'Cognitive Disability and Moral Status', 'Disability: Health, Well-Being, and Personal Relationships', 'Feminist Perspectives on Disability', 'Folk Psychology as Mental Simulation', 'Innateness and Contemporary Theories of Cognition', 'Perceptual Learning', 'Mental Disorder (Illness)', 'Modularity of Mind', 'Hume’s Moral Philosophy', 'Metaethics', 'Moore’s Moral Philosophy', 'Moral Non-Naturalism', 'Moral Skepticism', 'Moral Naturalism', 'Charles Leslie Stevenson', 'Kant’s Views on Space and Time', 'Friedrich Albert Lange', 'Hans-Georg Gadamer', 'Colonialism', 'Secession', 'Color', 'The Common Good', 'Public Goods', 'Game Theory', 'Computational Complexity Theory', 'Quantum Computing', 'Quantum Entanglement and Information', 'Computational Philosophy', 'Progress', 'Innateness and Language', 'Frank Ramsey', 'Impossible Worlds', 'The Epistemology of Modality', 'Varieties of Modality', 'The History of Feminism: Marie-Jean-Antoine-Nicolas de Caritat, Marquis de Condorcet', 'Liberal Feminism', 'Mary Wollstonecraft', 'Carl Hempel', 'Japanese Confucian Philosophy', 'Sentence Connectives in Formal Logic', 'Conscience', 'Privacy and Medicine', 'Moral Epistemology', 'Philip the Chancellor', 'The Unity of Consciousness', 'Panpsychism', 'Quantum Approaches to Consciousness', 'Phenomenal Intentionality', 'The Neuroscience of Consciousness', 'Metaphysical Grounding', 'Inverted Qualia', 'Descartes’ Theory of Ideas', 'Robert Desgabets', 'Leibniz’s Philosophy of Mind', 'Spinoza’s Psychological Theory', 'The Experience and Perception of Time', 'Descartes’ Life and Works', 'Kant’s View of the Mind and Consciousness of Self', 'Medieval Theories of Consequence', 'Medieval Theories of Obligationes', 'Schema', 'Property and Ownership', 'August Wilhelm Rehberg', 'Experiment in Physics', 'Constructivism in Metaethics', 'Moral Realism', 'Reflective Equilibrium', 'Epistemic Paradoxes', 'Continental Rationalism', 'Descartes and the Pineal Gland', 'Descartes’ Ethics', 'Descartes’ Mathematics', 'Descartes’ Modal Metaphysics', 'Descartes’ Ontological Argument', 'Elisabeth, Princess of Bohemia', '18th Century German Philosophy Prior to Kant', 'Leibniz’s Influence on Kant', 'Leibniz’s Ethics', 'Leibniz on Causation', 'Leibniz on the Problem of Evil', 'Malebranche’s Theory of Ideas and Vision in God', 'Mary Shepherd', 'Spinoza’s Physical Theory', 'Finitism in Geometry', 'Johannes Kepler', 'Contractualism', 'Original Position', 'Contemporary Approaches to the Social Contract', 'Philosophy of Contract Law', 'The Economic Analysis of Law', 'Special Obligations', 'Promises', 'Theories of the Common Law of Torts', 'The Definition of Morality', 'Fatalism', 'Many-Valued Logic', 'Russell’s Paradox', 'Nelson Goodman', 'Moral Relativism', 'Alexander Crummell', 'Ralph Waldo Emerson', 'Géraud de Cordemoy', 'Louis de La Forge', 'Corruption', 'Moral Dilemmas', 'Infinite Regress Arguments', 'Cosmology: Methodological Debates in the 1930s and 1940s', 'Space and Time: Inertial Frames', 'Cosmology and Theology', 'Fine-Tuning', 'Philosophy of Cosmology', 'Singularities and Black Holes', 'Globalization', 'Hugo Grotius', 'World Government', 'Robert Holkot', 'Creation and Conservation', 'Francisco Suárez', 'Theories of Criminal Law', 'The Legal Concept of Evidence', 'Retributive Justice', 'Legal Rights', 'The Rule of Law', 'Latinx Philosophy', 'Philosophy of Liberation', 'Intuition', 'The Ethics of Cultural Heritage ', 'Freedom of Speech', 'Intergenerational Justice', 'Multiculturalism', 'The Nonidentity Problem', 'Intellectual Property', 'Reconciliation', 'Naturalistic Approaches to Social Construction', 'Combinatory Logic', 'Linear Logic', 'Substructural Logics', 'Paradoxes and Contemporary Logic', 'Self-Reference', 'Alternative Axiomatic Set Theories', 'John Scottus Eriugena', 'Peter Damian', 'The Philosophy of Dance', 'Philosophy of Film', 'Philosophy of Theater', 'Dante Alighieri', 'Medieval Political Philosophy', 'Religious Daoism', 'Meaning Holism', 'The Definition of Death', 'Voluntary Euthanasia', 'Doing vs. Allowing Harm', 'Epistemic Utility Arguments for Probabilism', 'Dedekind’s Contributions to the Foundations of Mathematics', 'Structuralism in the Philosophy of Mathematics', 'Explanation in Mathematics', 'Mathematical Style', 'Defaults in Semantics and Pragmatics', 'Tarski’s Truth Definitions', 'The Revision Theory of Truth', 'Type Theory', 'Salomon Maimon', 'Dreams and Dreaming', 'Philosophy of Psychiatry', 'Publicity', 'Public Reason', 'The Ethics and Rationality of Voting', 'Global Democracy', 'Political Realism in International Relations', 'Fundamentality', 'Depiction', 'The Philosophy of Digital Art', 'Emmanuel Levinas', 'Paul Ricoeur', 'Antoine Le Grand', 'Henricus Regius', 'Epistemological Problems of Perception', 'Marin Mersenne', 'Descartes’ Method', 'Leibniz’s Modal Metaphysics', 'Absolute and Relational Space and Motion: Post-Newtonian Theories', 'Names', 'Nonexistent Objects', 'Rigid Designators', 'Reasons for Action: Internal vs. External', 'Supertasks', 'Levels of Organization in Biology', 'Inheritance Systems', 'Dewey’s Moral Philosophy', 'Sidney Hook', 'Hope', 'Introspection', 'Process Philosophy', 'Historicist Theories of Scientific Rationality', 'Religion and Morality', 'Religious Experience', 'Richard Rorty', 'Wilfrid Sellars', 'Perceptual Experience and Concepts in Classical Indian Philosophy', 'Tibetan Epistemology and Philosophy of Language', 'Diagrams', 'Peirce’s Deductive Logic', 'Temporal Logic', 'Paul-Henri Thiry (Baron) d’Holbach', 'Molyneux’s Problem', 'The Problem of Dirty Hands', 'Critical Disability Theory', 'Disability and Health Care Rationing', 'Love', 'Justice, Inequality, and Health', 'Justice and Bad Luck', 'Recognition', 'Redistribution', 'Disagreement', 'Feminist Perspectives on Trans Issues', 'Disjunction', 'Montague Semantics', 'David Lewis’s Metaphysics', 'Distributive Justice and Empirical Moral Psychology', 'Justice as a Virtue', 'The Donation and Sale of Human Eggs and Sperm', 'Feminist Perspectives on Sex Markets', 'Pregnancy, Birth, and Medicine', 'The Sale of Human Organs', 'The Ethics of Clinical Research', 'Skepticism and Content Externalism', 'Jean-Baptiste Du Bos', 'Henri Poincaré', 'Scientific Progress', 'Analytic Philosophy in Early Modern India', 'Methodological Individualism', 'Game Theory and Ethics', 'Imre Lakatos', 'Ceteris Paribus Laws', 'Adam Smith’s Moral and Political Philosophy', 'Envy', 'Jean François Lyotard', 'Jonathan Edwards', 'Omniscience', 'Plato’s Shorter Ethical Works', 'Ayn Rand', 'The Equivalence of Mass and Energy', 'Nineteenth Century Geometry', 'Holism and Nonseparability in Physics', 'Conventionality of Simultaneity', 'Material Constitution', 'Transcendentalism', 'Medieval Theories of the Emotions', 'Instrumental Rationality', 'David Hartley', 'Justus Lipsius', 'Michel de Montaigne', 'Ancient and Medieval Empiricism', 'Otto Neurath', 'Epictetus', 'Fitch’s Paradox of Knowability', 'The Paradox of Suspense', 'Coherentist Theories of Epistemic Justification', 'Epistemological Problems of Memory', 'Evolutionary Epistemology', 'Epistemology in Latin America', 'Latin American Philosophy: Metaphilosophical Foundations', 'Skepticism in Latin America', 'A Priorism in Moral Epistemology', 'Transmission of Justification and Warrant', 'Logic and Probability', 'Proof Theory', 'Quantifiers and Quantification', 'Plutarch', 'Lorenzo Valla', 'The Ergodic Hierarchy', 'Boltzmann’s Work in Statistical Physics', 'Immutability', 'Quantum Gravity', 'Divine Simplicity', 'Loyalty', 'The Definition of Lying and Deception', 'Markets', 'Ethics in Indian and Tibetan Buddhism', 'Human/Non-Human Chimeras', 'Feminist Bioethics', 'The Logic of Action', 'Tense and Aspect', 'Legal Probabilism', 'The Concept of Evil', 'Kant’s Philosophy of Religion', 'Nietzsche’s Moral and Political Philosophy', 'Kinds and Origins of Evil', 'Feminist Philosophy of Biology', 'Genetic Drift', 'Philosophy of Macroevolution', 'Philosophy of Microbiology', 'Herbert Spencer', 'Ernst Mally', 'José Ortega y Gasset', 'Externalism and Self-Knowledge', 'Russell’s Logical Atomism', 'Trust', 'Gustav Theodor Fechner', 'Johann Friedrich Herbart', 'Measurement in Science', 'Friedrich Wilhelm Joseph von Schelling', 'Federalism', 'Herbert Feigl', 'Margaret Fell', 'Harriet Taylor Mill', 'Analytic Feminism', 'Continental Feminism', 'Latin American Feminism', 'Feminist Philosophy of Language', 'Feminist Philosophy of Religion', 'Psychoanalytic Feminism', 'Feminist Environmental Philosophy', 'Feminist Perspectives on Globalization', 'Feminist Perspectives on the Body', 'Jacques Lacan', 'Alfred North Whitehead', 'Feminist Perspectives on Rape', 'Generic Generalizations', 'Kant’s Account of Reason', 'The Repugnant Conclusion', 'Karl Leonhard Reinhold', 'Fiction', 'Fictional Entities', 'Modal Fictionalism', 'Fictionalism in the Philosophy of Mathematics', 'Naturalism in the Philosophy of Mathematics', 'John Niemeyer Findlay', 'Teleological Arguments for God’s Existence', 'Richard FitzRalph', 'Richard Kilvington', 'Adam de Wodeham', 'Ludwik Fleck', 'Scientific Revolutions', 'Philippa Foot', 'Richard Mervyn Hare', 'Transitional Justice', 'Supererogation', 'Francis of Marchia', 'Freedom of Association', 'Skepticism About Moral Responsibility', 'Plato’s Ethics: An Overview', 'Plato on Friendship and Eros', 'Margaret Fuller', 'Games, Full Abstraction and Full Completeness', 'Logic and Games', 'Dialogical Logic', 'Epistemic Foundations of Game Theory', 'Gaṅgeśa', 'Epistemology in Classical Indian Philosophy', 'Language and Testimony in Classical Indian Philosophy', 'Logic in Classical Indian Philosophy', 'Naturalism in Classical Indian Philosophy', 'Gelukpa [dge lugs pa]', 'Tsongkhapa', 'Generalized Quantifiers', 'The Structure of Scientific Theories', 'Epistemology of Geometry', 'Locke’s Philosophy of Science', 'The Epistemology of Visual Thinking in Mathematics', 'Pufendorf’s Moral and Political Philosophy', 'God and Other Necessary Beings', 'Religious Diversity (Pluralism)', 'Religious Language', 'Śaṅkara', 'Kant and Hume on Morality', 'The Continuum Hypothesis', 'Large Cardinals and Determinacy', 'The Development of Proof Theory', 'Independence and Large Cardinals', 'Stanisław Leśniewski', 'Clarence Irving Lewis', 'Perfect Goodness', 'Gorampa [go rams pa]', 'Typelogical Grammar', 'Gratitude', 'Territorial Rights and Territorial Justice', 'Haecceitism', 'Friedrich Heinrich Jacobi', 'Nicolai Hartmann', 'Transcendental Arguments', 'Charles Hartshorne', 'Friedrich Hayek', 'Hegel’s Social and Political Philosophy', 'Michel Henry', 'Xenophanes', 'Wilhelm von Humboldt', 'Understanding', 'Skeptical Theism', 'Hobbes’ Philosophy of Science', 'Holes', 'Max Scheler', 'Human Nature', 'Locke on Real Essence', 'Hume’s Newtonianism and Anti-Newtonianism', 'Philosophy of Humor', 'Alfred Schutz', 'Francis Hutcheson', 'Hyperintensionality', 'Justification Logic', 'Two-Dimensional Semantics', 'Saadya [Saadiah]', 'Ibn Kammuna', 'Ibn Rushd’s Natural Philosophy', 'Ibn Sina’s Metaphysics', 'Ibn Sina’s Natural Philosophy', 'Modern Origins of Modal Logic', 'Self-Consciousness', 'Relative Identity', 'The Problem of the Many', 'Temporal Parts', 'Idiolects', 'Private Language', 'Imaginative Resistance', 'Optimality-Theoretic and Game-Theoretic Approaches to Implicature', 'Kumārila', 'Śrīharṣa', 'The Literal-Nonliteral Distinction in Classical Indian Philosophy', 'Word Meaning', 'Personhood in Classical Indian Philosophy', 'Infinity', 'Quine’s New Foundations', 'The St. Petersburg Paradox', 'Time Machines', 'Information Processing and Thermodynamic Entropy', 'Logic and Information', 'Plato’s Cratylus', 'Protagoras', 'James of Viterbo', 'Japanese Philosophy', 'The Kokugaku (Native Japan Studies) School', 'Kūkai', 'Japanese Pure Land Philosophy', 'Nishida Kitarō', 'Watsuji Tetsurō', 'Jayarāśi', 'Thomas Jefferson', 'William Stanley Jevons', 'John of Salisbury', 'Medieval Skepticism', 'Emily Elizabeth Constance Jones', 'Russell’s Moral Philosophy', 'Jury Theorems', 'Climate Justice', 'Ramsey and Intergenerational Welfare Economics', 'Patriotism', 'Religion and Political Theory', 'Kant’s Transcendental Idealism', 'Kant’s Critique of Metaphysics', 'Kant’s Philosophical Development', 'Kant’s Philosophy of Science', 'Moral Reasoning', 'Kantian Conceptualism/Nonconceptualism', 'Perceptual Experience and Perceptual Justification', 'Newton’s Philosophiae Naturalis Principia Mathematica', 'Leibniz’s Philosophy of Physics', 'Joseph Kaspi', 'Korean Confucianism', 'Johann Sturm', 'Non-Deductive Methods in Mathematics', 'Liberalism in Latin America', 'Philosophy in Mexico', 'Philosophy of Science in Latin America', 'Analytic Philosophy in Latin America', 'Legal Interpretation', 'Interpretation and Coherence in Legal Reasoning', 'Legal Interpretivism', 'Petrus Ramus', 'Juan Luis Vives [Joannes Ludovicus Vives]', 'The Pure Theory of Law', 'The Coherence Theory of Truth', 'Leibniz’s Exoteric Philosophy', 'Philosophical Aspects of Multi-Modal Logic', 'Modal Interpretations of Quantum Mechanics', 'Spinoza’s Modal Metaphysics', 'Yeshayahu Leibowitz', 'Natural Properties', 'Provability Logic', 'Axiomatic Theories of Truth', 'Ramon Llull', 'Location and Mereology', 'Omnipresence', 'Plural Quantification', 'Locke’s Moral Philosophy', 'Locke On Freedom', 'Locke on Personal Identity', 'Dynamic Epistemic Logic', 'Propositional Dynamic Logic', 'Infinitary Logic', 'Combining Logics', 'The Normative Status of Logic', 'Mally’s Deontic Logic', 'Dependence Logic', 'Independence Friendly Logic', 'Logics for Analyzing Games', 'Logics for Analyzing Power in Normal Form Games', 'Formal Approaches to Social Procedures', 'Fuzzy Logic', 'Hybrid Logic', 'Non-wellfounded Set Theory', 'The Emergence of First-Order Logic', 'Benjamin Peirce', 'Jan Łukasiewicz', 'Propositional Function', 'Wittgenstein’s Logical Atomism', 'Personalism', 'Luther’s Influence on Philosophy', 'Peirce’s Theory of Signs', 'Catharine Macaulay', 'Callicles and Thrasymachus', 'Marcus Aurelius', 'Lucrezia Marinella', 'Personal Relationship Goods', 'Sex and Sexuality', 'Revolution', 'The Logic of Mass Expressions', 'The Metaphysics of Mass Expressions', 'Simon of Faversham', 'Medieval Theories of Singular Terms', 'Thomas of Erfurt', 'Radulphus Brito', 'Touch', 'Metaphysical Explanation', 'Methodological Holism in the Social Sciences', 'Thomas More', 'Scientific Representation', 'Modesty and Humility', 'Epistemic Self-Doubt', 'Philosophy of Money and Finance', 'Social Ontology', 'Russellian Monism', 'Moral Disagreement', 'Intuitionism in Ethics', 'William David Ross', 'Moral Particularism and Moral Generalism', 'Thick Ethical Concepts', 'The Epistemic Condition for Moral Responsibility', 'Moral Responsibility and the Principle of Alternative Possibilities', 'Origen', 'History of Western Philosophy of Music: Antiquity to 1800', 'History of Western Philosophy of Music: since 1800', 'Philodemus', 'Auditory Perception', 'Natural Deduction Systems in Logic', 'Needs in Moral and Political Philosophy', 'Neoliberalism', 'Nietzsche’s Life and Works', 'The Psychology of Normative Cognition', 'Numenius', 'Plato’s Timaeus', 'Michael Oakeshott', 'Thomas Paine', 'Sounds', 'Joane Petrizi', 'Adolf Reinach', 'Moral Phenomenology', 'The Phenomenology of the Munich and Göttingen Circles', 'Edith Stein', 'Medieval Theories of Transcendentals', 'Philo of Alexandria', 'Phylogenetic Inference', 'Symmetry and Symmetry Breaking', 'Method and Metaphysics in Plato’s Sophist and Statesman', 'Plato on utopia', 'Plato’s Parmenides', 'Plato’s Myths', 'The Sophists', 'John Wyclif’s Political Philosophy', 'François Poulain de la Barre', 'Quotation', 'The Pragmatic Theory of Truth', 'Chauncey Wright', 'Petitionary Prayer', 'Prediction versus Accommodation', 'Realism and Theory Change in Science', 'Presentism', 'Reid’s Ethics', 'Probability in Medieval and Renaissance Philosophy', 'Timon of Phlius', 'Speusippus', 'Xenocrates', 'Collapse Theories', 'Everett’s Relative-State Formulation of Quantum Mechanics', 'Many-Worlds Interpretation of Quantum Mechanics', 'Relational Quantum Mechanics', 'The Consistent Histories Approach to Quantum Mechanics', 'Quantum-Bayesian and Pragmatist Views of Quantum Theory', 'Quantum Theory and Mathematical Rigor', 'Reid on Memory and Personal Identity', 'Phenomenology of Religion', 'Reproducibility of Scientific Results', 'Scientific Research and Big Data', 'Divine Revelation', 'William of Sherwood', 'Eugen Rosenstock-Huessy', 'Antonio Rosmini', 'Śāntideva', 'Sakya Paṇḍita [sa skya paṇ ḍi ta]', 'Francisco Sanches', 'Heinrich Scholz', 'School of Salamanca', 'Scientific Pluralism', 'Madeleine de Scudéry', 'Self-Defense', 'Sophie de Grouchy', 'Absolute and Relational Space and Motion: Classical Theories', 'Spinoza’s Theory of Attributes', 'Philosophy of Sport', 'Leo Strauss', 'Supervenience in Ethics', 'Richard Sylvan [Routley]', 'Nicolaus Taurellus', 'Treating Persons as Means', 'Donald Cary Williams', 'Pluralist Theories of Truth', 'Umar Khayyam', 'Hans Vaihinger', 'Moral Vegetarianism', 'James Ward', 'Simone Weil', 'Count Paul Yorck von Wartenburg'])"
      ]
     },
     "execution_count": 78,
     "metadata": {},
     "output_type": "execute_result"
    }
   ],
   "source": [
    "degree.keys()"
   ]
  },
  {
   "cell_type": "code",
   "execution_count": 25,
   "id": "15e74f15-3e14-4126-a3fc-bc0ce85ce3ee",
   "metadata": {},
   "outputs": [
    {
     "data": {
      "text/plain": [
       "'Immanuel Kant'"
      ]
     },
     "execution_count": 25,
     "metadata": {},
     "output_type": "execute_result"
    }
   ],
   "source": [
    "max(degree, key=degree.get)"
   ]
  },
  {
   "cell_type": "code",
   "execution_count": 26,
   "id": "b1c9a345-653c-4704-9a80-4bdae599b9ee",
   "metadata": {},
   "outputs": [
    {
     "data": {
      "text/plain": [
       "121"
      ]
     },
     "execution_count": 26,
     "metadata": {},
     "output_type": "execute_result"
    }
   ],
   "source": [
    "degree['Immanuel Kant']"
   ]
  },
  {
   "cell_type": "code",
   "execution_count": 27,
   "id": "9a7e1363-4962-4c77-9c4f-94c03569e556",
   "metadata": {},
   "outputs": [],
   "source": [
    "in_degree = {node: H.in_degree(node) for node in H.nodes}"
   ]
  },
  {
   "cell_type": "code",
   "execution_count": 28,
   "id": "6823273b-0d73-43c9-9efd-1c54bb208391",
   "metadata": {},
   "outputs": [
    {
     "data": {
      "text/plain": [
       "'Immanuel Kant'"
      ]
     },
     "execution_count": 28,
     "metadata": {},
     "output_type": "execute_result"
    }
   ],
   "source": [
    "max(in_degree, key=in_degree.get)"
   ]
  },
  {
   "cell_type": "code",
   "execution_count": 29,
   "id": "b00f4bbc-55e0-4960-87f8-9d3afd821789",
   "metadata": {},
   "outputs": [
    {
     "data": {
      "text/plain": [
       "111"
      ]
     },
     "execution_count": 29,
     "metadata": {},
     "output_type": "execute_result"
    }
   ],
   "source": [
    "in_degree['Immanuel Kant']"
   ]
  },
  {
   "cell_type": "code",
   "execution_count": 30,
   "id": "6d78ce2b-f8f4-434f-b51d-ab0035a3a6bd",
   "metadata": {},
   "outputs": [],
   "source": [
    "out_degree = {node: H.out_degree(node) for node in H.nodes}"
   ]
  },
  {
   "cell_type": "code",
   "execution_count": 31,
   "id": "0d8decb3-1081-4d99-b29e-3dd68e88ca90",
   "metadata": {},
   "outputs": [
    {
     "data": {
      "text/plain": [
       "'Medieval Philosophy'"
      ]
     },
     "execution_count": 31,
     "metadata": {},
     "output_type": "execute_result"
    }
   ],
   "source": [
    "max(out_degree, key=out_degree.get)"
   ]
  },
  {
   "cell_type": "code",
   "execution_count": 32,
   "id": "c1a92b82-6321-411a-a100-e7380c9cd208",
   "metadata": {},
   "outputs": [
    {
     "data": {
      "text/plain": [
       "67"
      ]
     },
     "execution_count": 32,
     "metadata": {},
     "output_type": "execute_result"
    }
   ],
   "source": [
    "out_degree['Medieval Philosophy']"
   ]
  },
  {
   "cell_type": "code",
   "execution_count": 33,
   "id": "4e5951ca-422d-4e52-8e46-eea231800b1b",
   "metadata": {},
   "outputs": [
    {
     "data": {
      "text/plain": [
       "'Judah Abrabanel'"
      ]
     },
     "execution_count": 33,
     "metadata": {},
     "output_type": "execute_result"
    }
   ],
   "source": [
    "min(in_degree, key=in_degree.get)"
   ]
  },
  {
   "cell_type": "code",
   "execution_count": 34,
   "id": "6a11492a-eeb4-4fd5-a301-8e2f1278c34f",
   "metadata": {},
   "outputs": [
    {
     "data": {
      "text/plain": [
       "0"
      ]
     },
     "execution_count": 34,
     "metadata": {},
     "output_type": "execute_result"
    }
   ],
   "source": [
    "in_degree['Judah Abrabanel']"
   ]
  },
  {
   "cell_type": "code",
   "execution_count": 35,
   "id": "656b1c91-8320-4a06-85f1-52c17fadedc9",
   "metadata": {},
   "outputs": [
    {
     "data": {
      "text/plain": [
       "'African Sage Philosophy'"
      ]
     },
     "execution_count": 35,
     "metadata": {},
     "output_type": "execute_result"
    }
   ],
   "source": [
    "min(out_degree, key=out_degree.get)"
   ]
  },
  {
   "cell_type": "code",
   "execution_count": 36,
   "id": "b4368cd0-7ace-48ee-8740-8317bf487dd5",
   "metadata": {},
   "outputs": [
    {
     "data": {
      "text/plain": [
       "0"
      ]
     },
     "execution_count": 36,
     "metadata": {},
     "output_type": "execute_result"
    }
   ],
   "source": [
    "out_degree['African Sage Philosophy']"
   ]
  },
  {
   "cell_type": "code",
   "execution_count": 37,
   "id": "90e2a408-a097-4a93-985b-83a5807946b6",
   "metadata": {},
   "outputs": [],
   "source": [
    "closeness = nx.closeness_centrality(G)"
   ]
  },
  {
   "cell_type": "code",
   "execution_count": 38,
   "id": "bdedb69d-f31c-462e-a6d7-fe314ad12522",
   "metadata": {},
   "outputs": [
    {
     "data": {
      "text/plain": [
       "'Immanuel Kant'"
      ]
     },
     "execution_count": 38,
     "metadata": {},
     "output_type": "execute_result"
    }
   ],
   "source": [
    "max(closeness, key=closeness.get)"
   ]
  },
  {
   "cell_type": "code",
   "execution_count": 39,
   "id": "2f73ca18-4fa8-4e73-b55c-237e154d9ac6",
   "metadata": {},
   "outputs": [
    {
     "data": {
      "text/plain": [
       "0.4173662748860638"
      ]
     },
     "execution_count": 39,
     "metadata": {},
     "output_type": "execute_result"
    }
   ],
   "source": [
    "closeness['Immanuel Kant']"
   ]
  },
  {
   "cell_type": "code",
   "execution_count": 40,
   "id": "ae5ec5e8-9007-49aa-9bfc-c6335ed5beff",
   "metadata": {},
   "outputs": [
    {
     "data": {
      "text/plain": [
       "'African Sage Philosophy'"
      ]
     },
     "execution_count": 40,
     "metadata": {},
     "output_type": "execute_result"
    }
   ],
   "source": [
    "min(closeness, key=closeness.get)"
   ]
  },
  {
   "cell_type": "code",
   "execution_count": 41,
   "id": "cb0d5b46-2232-4c47-8659-15a2c41f4848",
   "metadata": {},
   "outputs": [
    {
     "data": {
      "text/plain": [
       "0.22673964034401878"
      ]
     },
     "execution_count": 41,
     "metadata": {},
     "output_type": "execute_result"
    }
   ],
   "source": [
    "closeness['African Sage Philosophy']"
   ]
  },
  {
   "cell_type": "code",
   "execution_count": 42,
   "id": "ffcc8c5d-21f4-4a29-9fa9-aac21f23fbcb",
   "metadata": {},
   "outputs": [],
   "source": [
    "betweenness = nx.betweenness_centrality(G)"
   ]
  },
  {
   "cell_type": "code",
   "execution_count": 43,
   "id": "f07f65c0-aee7-448a-8db9-ade4e2c13cb0",
   "metadata": {},
   "outputs": [
    {
     "data": {
      "text/plain": [
       "'Aristotle'"
      ]
     },
     "execution_count": 43,
     "metadata": {},
     "output_type": "execute_result"
    }
   ],
   "source": [
    "max(betweenness, key=betweenness.get)"
   ]
  },
  {
   "cell_type": "code",
   "execution_count": 44,
   "id": "084a86cd-f744-498d-b22b-0a81fb2ad861",
   "metadata": {},
   "outputs": [
    {
     "data": {
      "text/plain": [
       "0.041728738614636884"
      ]
     },
     "execution_count": 44,
     "metadata": {},
     "output_type": "execute_result"
    }
   ],
   "source": [
    "betweenness['Aristotle']"
   ]
  },
  {
   "cell_type": "code",
   "execution_count": 45,
   "id": "2c6c58be-9bbc-4e2b-aea0-ebc58886b7c2",
   "metadata": {},
   "outputs": [
    {
     "data": {
      "text/plain": [
       "'African Sage Philosophy'"
      ]
     },
     "execution_count": 45,
     "metadata": {},
     "output_type": "execute_result"
    }
   ],
   "source": [
    "min(betweenness, key=betweenness.get)"
   ]
  },
  {
   "cell_type": "code",
   "execution_count": 46,
   "id": "3d31a7da-3d75-480f-a28c-1c976a1545c0",
   "metadata": {},
   "outputs": [
    {
     "data": {
      "text/plain": [
       "0.0"
      ]
     },
     "execution_count": 46,
     "metadata": {},
     "output_type": "execute_result"
    }
   ],
   "source": [
    "betweenness['African Sage Philosophy']"
   ]
  },
  {
   "cell_type": "code",
   "execution_count": 47,
   "id": "21581ece-5f79-41ab-b5f0-08535fd22030",
   "metadata": {},
   "outputs": [],
   "source": [
    "eigenvector = nx.eigenvector_centrality(G)"
   ]
  },
  {
   "cell_type": "code",
   "execution_count": 48,
   "id": "a11588fa-b619-4b3d-bf62-847e2ff6a67e",
   "metadata": {},
   "outputs": [
    {
     "data": {
      "text/plain": [
       "'Immanuel Kant'"
      ]
     },
     "execution_count": 48,
     "metadata": {},
     "output_type": "execute_result"
    }
   ],
   "source": [
    "max(eigenvector, key=eigenvector.get)"
   ]
  },
  {
   "cell_type": "code",
   "execution_count": 49,
   "id": "650a424c-03db-44ef-b03d-8c7e81541cc5",
   "metadata": {},
   "outputs": [
    {
     "data": {
      "text/plain": [
       "0.13882510087228161"
      ]
     },
     "execution_count": 49,
     "metadata": {},
     "output_type": "execute_result"
    }
   ],
   "source": [
    "eigenvector['Immanuel Kant']"
   ]
  },
  {
   "cell_type": "code",
   "execution_count": 50,
   "id": "a9635e42-792c-4494-a977-a407ed3bf8ff",
   "metadata": {},
   "outputs": [
    {
     "data": {
      "text/plain": [
       "'African Sage Philosophy'"
      ]
     },
     "execution_count": 50,
     "metadata": {},
     "output_type": "execute_result"
    }
   ],
   "source": [
    "min(eigenvector, key=eigenvector.get)"
   ]
  },
  {
   "cell_type": "code",
   "execution_count": 51,
   "id": "0f75b5fe-f9f5-49d4-9fe6-a6464ff3b078",
   "metadata": {},
   "outputs": [],
   "source": [
    "pagerank = nx.pagerank(G)"
   ]
  },
  {
   "cell_type": "code",
   "execution_count": 52,
   "id": "9a650539-c642-497a-95a5-7abef6f3c94b",
   "metadata": {},
   "outputs": [
    {
     "data": {
      "text/plain": [
       "'Aristotle'"
      ]
     },
     "execution_count": 52,
     "metadata": {},
     "output_type": "execute_result"
    }
   ],
   "source": [
    "max(pagerank, key=pagerank.get)"
   ]
  },
  {
   "cell_type": "code",
   "execution_count": 53,
   "id": "64625151-fe0a-40cf-9c43-9ee825e62cb9",
   "metadata": {},
   "outputs": [
    {
     "data": {
      "text/plain": [
       "0.0035301272634158803"
      ]
     },
     "execution_count": 53,
     "metadata": {},
     "output_type": "execute_result"
    }
   ],
   "source": [
    "pagerank['Aristotle']"
   ]
  },
  {
   "cell_type": "code",
   "execution_count": 54,
   "id": "d97d1cca-228e-44ff-9e74-9ae1788bf065",
   "metadata": {},
   "outputs": [
    {
     "data": {
      "text/plain": [
       "'Justus Lipsius'"
      ]
     },
     "execution_count": 54,
     "metadata": {},
     "output_type": "execute_result"
    }
   ],
   "source": [
    "min(pagerank, key=pagerank.get)"
   ]
  },
  {
   "cell_type": "code",
   "execution_count": 55,
   "id": "9bf60b17-89bf-4e5a-9959-972e773e2fd9",
   "metadata": {},
   "outputs": [
    {
     "data": {
      "text/plain": [
       "0.00014406103276213563"
      ]
     },
     "execution_count": 55,
     "metadata": {},
     "output_type": "execute_result"
    }
   ],
   "source": [
    "pagerank['Justus Lipsius']"
   ]
  },
  {
   "cell_type": "code",
   "execution_count": 56,
   "id": "53ba0757-f38c-4283-aa86-4d9349ad13f4",
   "metadata": {},
   "outputs": [],
   "source": [
    "load = nx.load_centrality(G)"
   ]
  },
  {
   "cell_type": "code",
   "execution_count": 57,
   "id": "15b478fa-6c4c-42de-9541-36af58af8254",
   "metadata": {},
   "outputs": [
    {
     "data": {
      "text/plain": [
       "'Aristotle'"
      ]
     },
     "execution_count": 57,
     "metadata": {},
     "output_type": "execute_result"
    }
   ],
   "source": [
    "max(load, key=load.get)"
   ]
  },
  {
   "cell_type": "code",
   "execution_count": 58,
   "id": "2ebf2331-a8be-44e4-88ad-c675898946f0",
   "metadata": {},
   "outputs": [
    {
     "data": {
      "text/plain": [
       "0.03878943840523853"
      ]
     },
     "execution_count": 58,
     "metadata": {},
     "output_type": "execute_result"
    }
   ],
   "source": [
    "load['Aristotle']"
   ]
  },
  {
   "cell_type": "code",
   "execution_count": 59,
   "id": "dffe11cd-a636-40ed-b74c-66489828d12e",
   "metadata": {},
   "outputs": [
    {
     "data": {
      "text/plain": [
       "'African Sage Philosophy'"
      ]
     },
     "execution_count": 59,
     "metadata": {},
     "output_type": "execute_result"
    }
   ],
   "source": [
    "min(load, key=load.get)"
   ]
  },
  {
   "cell_type": "code",
   "execution_count": 60,
   "id": "12de38b7-8d45-466e-bafe-3b6b04ce121b",
   "metadata": {},
   "outputs": [
    {
     "data": {
      "text/plain": [
       "0.0"
      ]
     },
     "execution_count": 60,
     "metadata": {},
     "output_type": "execute_result"
    }
   ],
   "source": [
    "load['African Sage Philosophy']"
   ]
  },
  {
   "cell_type": "code",
   "execution_count": 70,
   "id": "b07e794e-8ddc-45b6-af73-6e158092e0aa",
   "metadata": {},
   "outputs": [],
   "source": [
    "df_degree = pd.DataFrame(list(degree.items()), columns=['topic', 'value'])"
   ]
  },
  {
   "cell_type": "code",
   "execution_count": 71,
   "id": "b62afa87-e80c-4753-ac9b-a81d0871c52c",
   "metadata": {},
   "outputs": [
    {
     "data": {
      "text/html": [
       "<div>\n",
       "<style scoped>\n",
       "    .dataframe tbody tr th:only-of-type {\n",
       "        vertical-align: middle;\n",
       "    }\n",
       "\n",
       "    .dataframe tbody tr th {\n",
       "        vertical-align: top;\n",
       "    }\n",
       "\n",
       "    .dataframe thead th {\n",
       "        text-align: right;\n",
       "    }\n",
       "</style>\n",
       "<table border=\"1\" class=\"dataframe\">\n",
       "  <thead>\n",
       "    <tr style=\"text-align: right;\">\n",
       "      <th></th>\n",
       "      <th>topic</th>\n",
       "      <th>value</th>\n",
       "    </tr>\n",
       "  </thead>\n",
       "  <tbody>\n",
       "    <tr>\n",
       "      <th>0</th>\n",
       "      <td>Abduction</td>\n",
       "      <td>22</td>\n",
       "    </tr>\n",
       "    <tr>\n",
       "      <th>1</th>\n",
       "      <td>Bayesian Epistemology</td>\n",
       "      <td>32</td>\n",
       "    </tr>\n",
       "    <tr>\n",
       "      <th>2</th>\n",
       "      <td>The Problem of Induction</td>\n",
       "      <td>34</td>\n",
       "    </tr>\n",
       "    <tr>\n",
       "      <th>3</th>\n",
       "      <td>Charles Sanders Peirce</td>\n",
       "      <td>40</td>\n",
       "    </tr>\n",
       "    <tr>\n",
       "      <th>4</th>\n",
       "      <td>Scientific Explanation</td>\n",
       "      <td>37</td>\n",
       "    </tr>\n",
       "    <tr>\n",
       "      <th>...</th>\n",
       "      <td>...</td>\n",
       "      <td>...</td>\n",
       "    </tr>\n",
       "    <tr>\n",
       "      <th>1736</th>\n",
       "      <td>Hans Vaihinger</td>\n",
       "      <td>9</td>\n",
       "    </tr>\n",
       "    <tr>\n",
       "      <th>1737</th>\n",
       "      <td>Moral Vegetarianism</td>\n",
       "      <td>7</td>\n",
       "    </tr>\n",
       "    <tr>\n",
       "      <th>1738</th>\n",
       "      <td>James Ward</td>\n",
       "      <td>7</td>\n",
       "    </tr>\n",
       "    <tr>\n",
       "      <th>1739</th>\n",
       "      <td>Simone Weil</td>\n",
       "      <td>9</td>\n",
       "    </tr>\n",
       "    <tr>\n",
       "      <th>1740</th>\n",
       "      <td>Count Paul Yorck von Wartenburg</td>\n",
       "      <td>7</td>\n",
       "    </tr>\n",
       "  </tbody>\n",
       "</table>\n",
       "<p>1741 rows × 2 columns</p>\n",
       "</div>"
      ],
      "text/plain": [
       "                                topic  value\n",
       "0                           Abduction     22\n",
       "1               Bayesian Epistemology     32\n",
       "2            The Problem of Induction     34\n",
       "3              Charles Sanders Peirce     40\n",
       "4              Scientific Explanation     37\n",
       "...                               ...    ...\n",
       "1736                   Hans Vaihinger      9\n",
       "1737              Moral Vegetarianism      7\n",
       "1738                       James Ward      7\n",
       "1739                      Simone Weil      9\n",
       "1740  Count Paul Yorck von Wartenburg      7\n",
       "\n",
       "[1741 rows x 2 columns]"
      ]
     },
     "execution_count": 71,
     "metadata": {},
     "output_type": "execute_result"
    }
   ],
   "source": [
    "df_degree"
   ]
  },
  {
   "cell_type": "code",
   "execution_count": 83,
   "id": "e4d0c2c8-7d2b-458a-9cef-b247136aba6c",
   "metadata": {},
   "outputs": [
    {
     "data": {
      "text/html": [
       "<div>\n",
       "<style scoped>\n",
       "    .dataframe tbody tr th:only-of-type {\n",
       "        vertical-align: middle;\n",
       "    }\n",
       "\n",
       "    .dataframe tbody tr th {\n",
       "        vertical-align: top;\n",
       "    }\n",
       "\n",
       "    .dataframe thead th {\n",
       "        text-align: right;\n",
       "    }\n",
       "</style>\n",
       "<table border=\"1\" class=\"dataframe\">\n",
       "  <thead>\n",
       "    <tr style=\"text-align: right;\">\n",
       "      <th></th>\n",
       "      <th>topic</th>\n",
       "      <th>value</th>\n",
       "    </tr>\n",
       "  </thead>\n",
       "  <tbody>\n",
       "    <tr>\n",
       "      <th>1056</th>\n",
       "      <td>Zombies</td>\n",
       "      <td>22</td>\n",
       "    </tr>\n",
       "  </tbody>\n",
       "</table>\n",
       "</div>"
      ],
      "text/plain": [
       "        topic  value\n",
       "1056  Zombies     22"
      ]
     },
     "execution_count": 83,
     "metadata": {},
     "output_type": "execute_result"
    }
   ],
   "source": [
    "df_degree[df_degree['topic'] == 'Zombies']"
   ]
  },
  {
   "cell_type": "code",
   "execution_count": 72,
   "id": "0808d2bf-8075-49af-88a7-a3d838321a00",
   "metadata": {},
   "outputs": [
    {
     "data": {
      "image/png": "[encoded data removed]",
      "text/plain": [
       "<Figure size 432x288 with 1 Axes>"
      ]
     },
     "metadata": {},
     "output_type": "display_data"
    }
   ],
   "source": [
    "sns.set()\n",
    "\n",
    "sns.barplot(data=df_degree, x='value', y='topic')\n",
    "\n",
    "plt.show()"
   ]
  },
  {
   "cell_type": "code",
   "execution_count": null,
   "id": "6b82436a-dbfa-4a21-8b92-da8be18876eb",
   "metadata": {},
   "outputs": [],
   "source": []
  }
 ],
 "metadata": {
  "kernelspec": {
   "display_name": "Python 3 (ipykernel)",
   "language": "python",
   "name": "python3"
  },
  "language_info": {
   "codemirror_mode": {
    "name": "ipython",
    "version": 3
   },
   "file_extension": ".py",
   "mimetype": "text/x-python",
   "name": "python",
   "nbconvert_exporter": "python",
   "pygments_lexer": "ipython3",
   "version": "3.9.7"
  }
 },
 "nbformat": 4,
 "nbformat_minor": 5
}
