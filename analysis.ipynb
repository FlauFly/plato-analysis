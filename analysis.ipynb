{
 "cells": [
  {
   "cell_type": "code",
   "execution_count": 1,
   "id": "372b2345-9cae-48bd-83b5-8720c813da52",
   "metadata": {},
   "outputs": [],
   "source": [
    "import pandas as pd\n",
    "import numpy as np\n",
    "import networkx as nx\n",
    "import matplotlib.pyplot as plt"
   ]
  },
  {
   "cell_type": "code",
   "execution_count": 2,
   "id": "1f0f3b5c-e98e-4458-a914-38c789c4f5ca",
   "metadata": {},
   "outputs": [],
   "source": [
    "df = pd.read_csv('data.csv')"
   ]
  },
  {
   "cell_type": "code",
   "execution_count": 3,
   "id": "b1de72bd-e5ef-4d6c-97fb-4dd18b8943d1",
   "metadata": {},
   "outputs": [
    {
     "data": {
      "text/html": [
       "<div>\n",
       "<style scoped>\n",
       "    .dataframe tbody tr th:only-of-type {\n",
       "        vertical-align: middle;\n",
       "    }\n",
       "\n",
       "    .dataframe tbody tr th {\n",
       "        vertical-align: top;\n",
       "    }\n",
       "\n",
       "    .dataframe thead th {\n",
       "        text-align: right;\n",
       "    }\n",
       "</style>\n",
       "<table border=\"1\" class=\"dataframe\">\n",
       "  <thead>\n",
       "    <tr style=\"text-align: right;\">\n",
       "      <th></th>\n",
       "      <th>From</th>\n",
       "      <th>To</th>\n",
       "    </tr>\n",
       "  </thead>\n",
       "  <tbody>\n",
       "    <tr>\n",
       "      <th>0</th>\n",
       "      <td>Abduction</td>\n",
       "      <td>Bayesian Epistemology</td>\n",
       "    </tr>\n",
       "    <tr>\n",
       "      <th>1</th>\n",
       "      <td>Abduction</td>\n",
       "      <td>The Problem of Induction</td>\n",
       "    </tr>\n",
       "    <tr>\n",
       "      <th>2</th>\n",
       "      <td>Abduction</td>\n",
       "      <td>Charles Sanders Peirce</td>\n",
       "    </tr>\n",
       "    <tr>\n",
       "      <th>3</th>\n",
       "      <td>Abduction</td>\n",
       "      <td>Scientific Explanation</td>\n",
       "    </tr>\n",
       "    <tr>\n",
       "      <th>4</th>\n",
       "      <td>Abduction</td>\n",
       "      <td>Scientific Realism</td>\n",
       "    </tr>\n",
       "    <tr>\n",
       "      <th>...</th>\n",
       "      <td>...</td>\n",
       "      <td>...</td>\n",
       "    </tr>\n",
       "    <tr>\n",
       "      <th>17871</th>\n",
       "      <td>Zombies</td>\n",
       "      <td>Physicalism</td>\n",
       "    </tr>\n",
       "    <tr>\n",
       "      <th>17872</th>\n",
       "      <td>Zombies</td>\n",
       "      <td>Private Language</td>\n",
       "    </tr>\n",
       "    <tr>\n",
       "      <th>17873</th>\n",
       "      <td>Zombies</td>\n",
       "      <td>Qualia</td>\n",
       "    </tr>\n",
       "    <tr>\n",
       "      <th>17874</th>\n",
       "      <td>Zombies</td>\n",
       "      <td>Skepticism</td>\n",
       "    </tr>\n",
       "    <tr>\n",
       "      <th>17875</th>\n",
       "      <td>Zombies</td>\n",
       "      <td>Supervenience</td>\n",
       "    </tr>\n",
       "  </tbody>\n",
       "</table>\n",
       "<p>17876 rows × 2 columns</p>\n",
       "</div>"
      ],
      "text/plain": [
       "            From                        To\n",
       "0      Abduction     Bayesian Epistemology\n",
       "1      Abduction  The Problem of Induction\n",
       "2      Abduction    Charles Sanders Peirce\n",
       "3      Abduction    Scientific Explanation\n",
       "4      Abduction        Scientific Realism\n",
       "...          ...                       ...\n",
       "17871    Zombies               Physicalism\n",
       "17872    Zombies          Private Language\n",
       "17873    Zombies                    Qualia\n",
       "17874    Zombies                Skepticism\n",
       "17875    Zombies             Supervenience\n",
       "\n",
       "[17876 rows x 2 columns]"
      ]
     },
     "execution_count": 3,
     "metadata": {},
     "output_type": "execute_result"
    }
   ],
   "source": [
    "df"
   ]
  },
  {
   "cell_type": "code",
   "execution_count": 4,
   "id": "ad0a60c7-0c6d-49fb-bbdf-b924dc54d71b",
   "metadata": {},
   "outputs": [],
   "source": [
    "G = nx.from_pandas_edgelist(df, 'From', 'To')"
   ]
  },
  {
   "cell_type": "code",
   "execution_count": 5,
   "id": "b6d27eb8-8dbe-4c24-8fef-4b852883c25b",
   "metadata": {},
   "outputs": [
    {
     "data": {
      "text/plain": [
       "True"
      ]
     },
     "execution_count": 5,
     "metadata": {},
     "output_type": "execute_result"
    }
   ],
   "source": [
    "nx.is_connected(G)"
   ]
  },
  {
   "cell_type": "code",
   "execution_count": 6,
   "id": "4321b89d-461c-4c80-8245-ceb497afdd02",
   "metadata": {},
   "outputs": [
    {
     "data": {
      "text/plain": [
       "networkx.classes.graph.Graph"
      ]
     },
     "execution_count": 6,
     "metadata": {},
     "output_type": "execute_result"
    }
   ],
   "source": [
    "type(G)"
   ]
  },
  {
   "cell_type": "code",
   "execution_count": 7,
   "id": "5a244237-1aa7-46b3-af40-6c421214547b",
   "metadata": {},
   "outputs": [],
   "source": [
    "H = nx.from_pandas_edgelist(df, 'From', 'To', create_using=nx.DiGraph)"
   ]
  },
  {
   "cell_type": "code",
   "execution_count": 8,
   "id": "f419ba00-759c-4519-a147-68fc6a940dc6",
   "metadata": {},
   "outputs": [
    {
     "data": {
      "text/plain": [
       "True"
      ]
     },
     "execution_count": 8,
     "metadata": {},
     "output_type": "execute_result"
    }
   ],
   "source": [
    "nx.is_weakly_connected(H)"
   ]
  },
  {
   "cell_type": "code",
   "execution_count": 9,
   "id": "7c24af3a-9c84-43ee-bc2b-6c870327a5ae",
   "metadata": {},
   "outputs": [
    {
     "data": {
      "text/plain": [
       "False"
      ]
     },
     "execution_count": 9,
     "metadata": {},
     "output_type": "execute_result"
    }
   ],
   "source": [
    "nx.is_strongly_connected(H)"
   ]
  },
  {
   "cell_type": "code",
   "execution_count": 10,
   "id": "f6d267ea-257c-4721-993c-71afbe9a90d2",
   "metadata": {},
   "outputs": [
    {
     "data": {
      "text/plain": [
       "2"
      ]
     },
     "execution_count": 10,
     "metadata": {},
     "output_type": "execute_result"
    }
   ],
   "source": [
    "nx.edge_connectivity(G)"
   ]
  },
  {
   "cell_type": "code",
   "execution_count": 12,
   "id": "0e3c6454-bbd2-4f87-8686-268424e4902f",
   "metadata": {},
   "outputs": [
    {
     "data": {
      "text/plain": [
       "{('Emily Elizabeth Constance Jones', 'William Stanley Jevons'),\n",
       " ('George Boole', 'William Stanley Jevons')}"
      ]
     },
     "execution_count": 12,
     "metadata": {},
     "output_type": "execute_result"
    }
   ],
   "source": [
    "nx.minimum_edge_cut(G)"
   ]
  },
  {
   "cell_type": "markdown",
   "id": "ce3ea87c-2233-43bf-a5f0-056e4f9a5780",
   "metadata": {},
   "source": [
    "Tutaj przydałoby się pokazać ile wchodzi połączeń z wierzchołka \"William Stanley Jevons\", a ile wychodzi. Sprawdziłem samą encyklopedię bezpośrednio i wychodzi na to, że \"Emily Jones\" to jedyny artykuł, który linkuje do tego, a jedyny do którego linkuje on sam to \"Boole\". "
   ]
  },
  {
   "cell_type": "code",
   "execution_count": 16,
   "id": "a1884aa4-d450-47b6-83b3-810c87a955c9",
   "metadata": {},
   "outputs": [
    {
     "data": {
      "text/plain": [
       "2"
      ]
     },
     "execution_count": 16,
     "metadata": {},
     "output_type": "execute_result"
    }
   ],
   "source": [
    "nx.degree(G, 'William Stanley Jevons')"
   ]
  },
  {
   "cell_type": "code",
   "execution_count": 18,
   "id": "f2bbd128-14c5-4f0f-96b1-e3dacede0e70",
   "metadata": {},
   "outputs": [
    {
     "data": {
      "text/plain": [
       "1"
      ]
     },
     "execution_count": 18,
     "metadata": {},
     "output_type": "execute_result"
    }
   ],
   "source": [
    "H.in_degree('William Stanley Jevons')"
   ]
  },
  {
   "cell_type": "code",
   "execution_count": 20,
   "id": "ee6a8c61-eaab-439b-943f-461f8042adaf",
   "metadata": {},
   "outputs": [
    {
     "data": {
      "text/plain": [
       "InEdgeDataView([('Emily Elizabeth Constance Jones', 'William Stanley Jevons')])"
      ]
     },
     "execution_count": 20,
     "metadata": {},
     "output_type": "execute_result"
    }
   ],
   "source": [
    "H.in_edges('William Stanley Jevons')"
   ]
  },
  {
   "cell_type": "code",
   "execution_count": 19,
   "id": "dc28c5fe-64ad-4bcd-bdc9-205c61dc1910",
   "metadata": {},
   "outputs": [
    {
     "data": {
      "text/plain": [
       "1"
      ]
     },
     "execution_count": 19,
     "metadata": {},
     "output_type": "execute_result"
    }
   ],
   "source": [
    "H.out_degree('William Stanley Jevons')"
   ]
  },
  {
   "cell_type": "code",
   "execution_count": 21,
   "id": "7b77c7a9-e39d-40a1-94a9-c5174542aeb0",
   "metadata": {},
   "outputs": [
    {
     "data": {
      "text/plain": [
       "OutEdgeDataView([('William Stanley Jevons', 'George Boole')])"
      ]
     },
     "execution_count": 21,
     "metadata": {},
     "output_type": "execute_result"
    }
   ],
   "source": [
    "H.out_edges('William Stanley Jevons')"
   ]
  },
  {
   "cell_type": "markdown",
   "id": "ac87ddd1-1afe-45cb-92e5-16c7fe21a5de",
   "metadata": {},
   "source": [
    "Minimal edge cut for this graph is for two edges leading in and out of node 'William Stanley Jevons', because corresponding article is linked only in 'Emily Elizabeth Constance Jones' and is linking only to article 'George Bool'."
   ]
  },
  {
   "cell_type": "code",
   "execution_count": 22,
   "id": "2784227b-333a-42ec-ae2d-5ea31673870e",
   "metadata": {},
   "outputs": [
    {
     "data": {
      "text/plain": [
       "2"
      ]
     },
     "execution_count": 22,
     "metadata": {},
     "output_type": "execute_result"
    }
   ],
   "source": [
    "nx.node_connectivity(G)"
   ]
  },
  {
   "cell_type": "code",
   "execution_count": 23,
   "id": "3a20a8a3-5bad-432f-8677-cff816e3d5e7",
   "metadata": {},
   "outputs": [
    {
     "data": {
      "text/plain": [
       "{'Maimonides', 'Marsilio Ficino'}"
      ]
     },
     "execution_count": 23,
     "metadata": {},
     "output_type": "execute_result"
    }
   ],
   "source": [
    "nx.minimum_node_cut(G)"
   ]
  },
  {
   "cell_type": "markdown",
   "id": "73271d69-cc54-4dc1-bdfb-5b3613a928b3",
   "metadata": {},
   "source": [
    "Output of function above shows that if we delete two articles, 'Maimonides' and 'Marsilio Ficino', body of work of philosophy, as represented by Stanford Encyclopedia of Philosophy, becomes disconnected. Definitely it's not trivial insight."
   ]
  },
  {
   "cell_type": "code",
   "execution_count": null,
   "id": "bdfe44e8-c4dd-4c1d-acb3-bec47d27b8e3",
   "metadata": {},
   "outputs": [],
   "source": []
  }
 ],
 "metadata": {
  "kernelspec": {
   "display_name": "Python 3 (ipykernel)",
   "language": "python",
   "name": "python3"
  },
  "language_info": {
   "codemirror_mode": {
    "name": "ipython",
    "version": 3
   },
   "file_extension": ".py",
   "mimetype": "text/x-python",
   "name": "python",
   "nbconvert_exporter": "python",
   "pygments_lexer": "ipython3",
   "version": "3.9.7"
  }
 },
 "nbformat": 4,
 "nbformat_minor": 5
}
